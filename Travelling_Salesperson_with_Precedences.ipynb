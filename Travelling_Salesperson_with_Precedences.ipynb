{
  "cells": [
    {
      "cell_type": "markdown",
      "metadata": {
        "id": "view-in-github",
        "colab_type": "text"
      },
      "source": [
        "<a href=\"https://colab.research.google.com/github/teshi24/aiso/blob/main/Travelling_Salesperson_with_Precedences.ipynb\" target=\"_parent\"><img src=\"https://colab.research.google.com/assets/colab-badge.svg\" alt=\"Open In Colab\"/></a>"
      ]
    },
    {
      "cell_type": "markdown",
      "metadata": {
        "id": "id1MWRgk-GuR"
      },
      "source": [
        "# Travelling Salesperson with Precedence Constraints"
      ]
    },
    {
      "cell_type": "markdown",
      "metadata": {
        "id": "f9qDyFst-GuS"
      },
      "source": [
        "Lucerne University of Applied Sciences and Arts - School of Information Technology\n",
        "\n",
        "The following exercise originates from a recent research project.\n",
        "\n",
        "Our industry partner is a Swiss small to medium sized company in the electricity market. They have one central headquarter from where they send out teams for various repair and maintenance tasks. Every task is bound to a specific location. The company wants to minimize the overall travelling costs. For simplicity we assume that the costs between any pair of locations are known in advance. However, they additionally have to respect certain inter-dependencies among the tasks. For example: for safety reasons it is important to first switch off electricity (task A) before starting the repair work on electric components (task B). This induces a constraint that task A must always be completed before task B can be started.\n",
        "\n",
        "Write a constraint optimization model that takes the number of teams as input together with a costs matrix between any pair of locations. For testing we provide code that automatically creates cost matrices with random numbers. The following figure displays the inter-dependencies among 11 tasks to be worked off. We further assume that location 0 (not displayed here) refers to the company’s headquarter. The duration for each tasks can be considered a constant and can thus be neglected in your model.\n",
        "\n",
        "Task inter-dependencies are shown in the following figure:\n",
        "\n",
        "![image.png](attachment:image.png)"
      ]
    },
    {
      "cell_type": "markdown",
      "metadata": {
        "id": "Gn1Pw4-V-GuT"
      },
      "source": [
        "@author: Marc Pouly\n",
        "@author: Tobias Mérinat"
      ]
    },
    {
      "cell_type": "code",
      "execution_count": 3,
      "metadata": {
        "colab": {
          "base_uri": "https://localhost:8080/"
        },
        "id": "P7iYhmpc-GuU",
        "outputId": "04fe0a8d-3f8b-4987-d13a-7fe3377971f9"
      },
      "outputs": [
        {
          "output_type": "stream",
          "name": "stdout",
          "text": [
            "Requirement already satisfied: ortools in /usr/local/lib/python3.10/dist-packages (9.10.4067)\n",
            "\u001b[31mERROR: Could not find a version that satisfies the requirement tsp_examples (from versions: none)\u001b[0m\u001b[31m\n",
            "\u001b[0m\u001b[31mERROR: No matching distribution found for tsp_examples\u001b[0m\u001b[31m\n",
            "\u001b[0m"
          ]
        }
      ],
      "source": [
        "!pip install ortools tsp_examples"
      ]
    },
    {
      "cell_type": "code",
      "execution_count": 8,
      "metadata": {
        "cellView": "form",
        "id": "LG69dxTh-GuU"
      },
      "outputs": [],
      "source": [
        "# @title\n",
        "\n",
        "import sys\n",
        "sys.path.append('../lecture-cpsat/')\n",
        "\n",
        "from ortools.constraint_solver import pywrapcp, routing_enums_pb2\n",
        "# Example input for Travelling Salesman\n",
        "#\n",
        "# @author: Tobias Mérinat and Marc Pouly\n",
        "\n",
        "import copy\n",
        "import numpy as np\n",
        "from sklearn.metrics import DistanceMetric\n",
        "from ortools.constraint_solver import pywrapcp\n",
        "\n",
        "\n",
        "#  Some classes that represent different exercise types\n",
        "class TspExample:\n",
        "    \"\"\" abstract base class \"\"\"\n",
        "\n",
        "    def __init__(self, names, nodes, vehicles):\n",
        "        self.names = names\n",
        "        self.nodes = nodes\n",
        "        self.vehicles = vehicles\n",
        "        self.depot = 0\n",
        "        self._manager = None\n",
        "\n",
        "    def distance(self, a, b):\n",
        "        raise NotImplementedError()\n",
        "\n",
        "    def size(self):\n",
        "        return len(self.names)\n",
        "\n",
        "    def manager(self):\n",
        "        if self._manager is None:\n",
        "            self._manager = pywrapcp.RoutingIndexManager(self.size(), self.vehicles, self.depot)\n",
        "        return self._manager\n",
        "\n",
        "\n",
        "class Precomputed(TspExample):\n",
        "    def distance(self, a, b):\n",
        "        return self.nodes[self.manager().IndexToNode(a)][self.manager().IndexToNode(b)]\n",
        "\n",
        "\n",
        "class Euclidean(TspExample):\n",
        "    def distance(self, a, b):\n",
        "        x = np.array((*self.nodes[self.manager().IndexToNode(a)], *self.nodes[self.manager().IndexToNode(b)])).reshape(2, 2)\n",
        "        return DistanceMetric.get_metric('euclidean').pairwise(x)[0][1]\n",
        "\n",
        "\n",
        "class Manhattan(TspExample):\n",
        "    def distance(self, a, b):\n",
        "        x = np.array((*self.nodes[self.manager().IndexToNode(a)], *self.nodes[self.manager().IndexToNode(b)])).reshape(2, 2)\n",
        "        return DistanceMetric.get_metric('manhattan').pairwise(x)[0][1]\n",
        "\n",
        "\n",
        "class GPS(TspExample):\n",
        "    def distance(self, a, b):\n",
        "        from math import radians\n",
        "        # pairwise wants shape (n_samples, 2) lat lon in radians\n",
        "        x = np.fromiter(map(radians, (*self.nodes[self.manager().IndexToNode(a)], *self.nodes[self.manager().IndexToNode(b)])), np.float).reshape(2, 2)\n",
        "        dists = DistanceMetric.get_metric('haversine').pairwise(x)\n",
        "        return 3959 * dists[0][1]  # multiply distance by earth radius in miles\n",
        "\n",
        "\n",
        "# Various examples\n",
        "def small(vehicles):\n",
        "    return Precomputed(\n",
        "        names=[\"New York\", \"Los Angeles\", \"Chicago\", \"Salt Lake City\"],\n",
        "        nodes=[\n",
        "                [0, 2451, 713, 1018],   # New York\n",
        "                [2451, 0, 1745, 1524],  # Los Angeles\n",
        "                [713, 1745, 0, 355],    # Chicago\n",
        "                [1018, 1524, 355, 0]],  # Salt Lake City\n",
        "        vehicles=vehicles)\n",
        "\n",
        "\n",
        "def large(vehicles):\n",
        "    instance = Precomputed(\n",
        "        names=[\"New York\", \"Los Angeles\", \"Chicago\", \"Minneapolis\", \"Denver\", \"Dallas\", \"Seattle\", \"Boston\",\n",
        "               \"San Francisco\", \"St. Louis\", \"Houston\", \"Phoenix\", \"Salt Lake City\"],\n",
        "        nodes=[\n",
        "                [0, 2451, 713, 1018, 1631, 1374, 2408, 213, 2571, 875, 1420, 2145, 1972],  # New York\n",
        "                [2451, 0, 1745, 1524, 831, 1240, 959, 2596, 403, 1589, 1374, 357, 579],  # Los Angeles\n",
        "                [713, 1745, 0, 355, 920, 803, 1737, 851, 1858, 262, 940, 1453, 1260],  # Chicago\n",
        "                [1018, 1524, 355, 0, 700, 862, 1395, 1123, 1584, 466, 1056, 1280, 987],  # Minneapolis\n",
        "                [1631, 831, 920, 700, 0, 663, 1021, 1769, 949, 796, 879, 586, 371],  # Denver\n",
        "                [1374, 1240, 803, 862, 663, 0, 1681, 1551, 1765, 547, 225, 887, 999],  # Dallas\n",
        "                [2408, 959, 1737, 1395, 1021, 1681, 0, 2493, 678, 1724, 1891, 1114, 701],  # Seattle\n",
        "                [213, 2596, 851, 1123, 1769, 1551, 2493, 0, 2699, 1038, 1605, 2300, 2099],  # Boston\n",
        "                [2571, 403, 1858, 1584, 949, 1765, 678, 2699, 0, 1744, 1645, 653, 600],  # San Francisco\n",
        "                [875, 1589, 262, 466, 796, 547, 1724, 1038, 1744, 0, 679, 1272, 1162],  # St. Louis\n",
        "                [1420, 1374, 940, 1056, 879, 225, 1891, 1605, 1645, 679, 0, 1017, 1200],  # Houston\n",
        "                [2145, 357, 1453, 1280, 586, 887, 1114, 2300, 653, 1272, 1017, 0, 504],  # Phoenix\n",
        "                [1972, 579, 1260, 987, 371, 999, 701, 2099, 600, 1162, 1200, 504, 0]],  # Salt Lake City\n",
        "        vehicles=vehicles)\n",
        "    instance.capacities = [15] * instance.vehicles\n",
        "    instance.demands = [5, 6, 4, 2, 2, 1, 2, 1, 2, 4, 4, 1, 3]\n",
        "    instance.demand = lambda node: int(instance.demands[instance.manager().IndexToNode(node)])\n",
        "    return instance\n",
        "\n",
        "\n",
        "def gps(vehicles):\n",
        "    return GPS(\n",
        "        names=[\"New York\", \"Los Angeles\", \"Chicago\", \"Minneapolis\", \"Denver\", \"Dallas\", \"Seattle\", \"Boston\",\n",
        "               \"San Francisco\", \"St. Louis\", \"Houston\", \"Phoenix\", \"Salt Lake City\"],\n",
        "        nodes=[\n",
        "              (40.71, -74.01),  # New York\n",
        "              (34.05, -118.24),  # Los Angeles\n",
        "              (41.88, -87.63),  # Chicago\n",
        "              (44.98, -93.27),  # Minneapolis\n",
        "              (39.74, -104.99),  # Denver\n",
        "              (32.78, -96.89),  # Dallas\n",
        "              (47.61, -122.33),  # Seattle\n",
        "              (42.36, -71.06),  # Boston\n",
        "              (37.77, -122.42),  # San Francisco\n",
        "              (38.63, -90.20),  # St.Louis\n",
        "              (29.76, -95.37),  # Houston\n",
        "              (33.45, -112.07),  # Phoenix\n",
        "              (40.76, -111.89)],  # Salt Lake City\n",
        "        vehicles=vehicles)\n",
        "\n",
        "\n",
        "# Random values with parameters defined by the Routing exercise\n",
        "def randomly(vehicles=2, n=12, seed=False):\n",
        "    if seed:\n",
        "        np.random.seed(42)\n",
        "    random_costs = np.random.randint(1, 1000, (n, n))\n",
        "    nodes = np.triu(random_costs, 1) + np.triu(random_costs, 1).T  # zero out lower half, then mirror upper\n",
        "    return Precomputed(names=range(len(random_costs)), nodes=nodes, vehicles=vehicles)\n",
        "\n",
        "\n",
        "def drilling(vehicles):\n",
        "    return Euclidean(\n",
        "        names=range(280),  # the length of the node list\n",
        "        nodes=[(288, 149), (288, 129), (270, 133), (256, 141), (256, 157), (246, 157), (236, 169),\n",
        "               (228, 169), (228, 161), (220, 169), (212, 169), (204, 169), (196, 169), (188, 169),\n",
        "               (196, 161), (188, 145), (172, 145), (164, 145), (156, 145), (148, 145), (140, 145),\n",
        "               (148, 169), (164, 169), (172, 169), (156, 169), (140, 169), (132, 169), (124, 169),\n",
        "               (116, 161), (104, 153), (104, 161), (104, 169), (90, 165), (80, 157), (64, 157),\n",
        "               (64, 165), (56, 169), (56, 161), (56, 153), (56, 145), (56, 137), (56, 129), (56, 121),\n",
        "               (40, 121), (40, 129), (40, 137), (40, 145), (40, 153), (40, 161), (40, 169), (32, 169),\n",
        "               (32, 161), (32, 153), (32, 145), (32, 137), (32, 129), (32, 121), (32, 113), (40, 113),\n",
        "               (56, 113), (56, 105), (48, 99), (40, 99), (32, 97), (32, 89), (24, 89), (16, 97),\n",
        "               (16, 109), (8, 109), (8, 97), (8, 89), (8, 81), (8, 73), (8, 65), (8, 57), (16, 57),\n",
        "               (40, 83), (40, 73), (40, 63), (40, 51), (44, 43), (44, 35), (44, 27), (32, 25), (24, 25),\n",
        "               (16, 25), (16, 17), (24, 17), (32, 17), (44, 11), (56, 9), (56, 17), (56, 25), (56, 33),\n",
        "               (56, 41), (64, 41), (72, 41), (72, 49), (56, 49), (48, 51), (56, 57), (56, 65), (48, 63),\n",
        "               (48, 73), (56, 73), (56, 81), (48, 83), (56, 89), (56, 97), (104, 97), (104, 105),\n",
        "               (104, 113), (104, 121), (104, 129), (104, 137), (104, 145), (116, 145), (124, 145),\n",
        "               (132, 145), (132, 137), (140, 137), (148, 137), (156, 137), (164, 137), (172, 125),\n",
        "               (172, 117), (172, 109), (172, 101), (172, 93), (172, 85), (180, 85), (180, 77), (180, 69),\n",
        "               (180, 61), (180, 53), (172, 53), (172, 61), (172, 69), (172, 77), (164, 81), (148, 85),\n",
        "               (124, 85), (124, 93), (124, 109), (124, 125), (124, 117), (124, 101), (104, 89),\n",
        "               (104, 81), (104, 73), (104, 65), (104, 49), (104, 41), (104, 33), (104, 25), (104, 17),\n",
        "               (92, 9), (80, 9), (72, 9), (64, 21), (72, 25), (80, 25), (80, 25), (80, 41), (88, 49),\n",
        "               (104, 57), (124, 69), (124, 77), (132, 81), (140, 65), (132, 61), (124, 61), (124, 53),\n",
        "               (124, 45), (124, 37), (124, 29), (132, 21), (124, 21), (120, 9), (128, 9), (136, 9),\n",
        "               (148, 9), (162, 9), (156, 25), (172, 21), (180, 21), (180, 29), (172, 29), (172, 37),\n",
        "               (172, 45), (180, 45), (180, 37), (188, 41), (196, 49), (204, 57), (212, 65), (220, 73),\n",
        "               (228, 69), (228, 77), (236, 77), (236, 69), (236, 61), (228, 61), (228, 53), (236, 53),\n",
        "               (236, 45), (228, 45), (228, 37), (236, 37), (236, 29), (228, 29), (228, 21), (236, 21),\n",
        "               (252, 21), (260, 29), (260, 37), (260, 45), (260, 53), (260, 61), (260, 69), (260, 77),\n",
        "               (276, 77), (276, 69), (276, 61), (276, 53), (284, 53), (284, 61), (284, 69), (284, 77),\n",
        "               (284, 85), (284, 93), (284, 101), (288, 109), (280, 109), (276, 101), (276, 93),\n",
        "               (276, 85), (268, 97), (260, 109), (252, 101), (260, 93), (260, 85), (236, 85), (228, 85),\n",
        "               (228, 93), (236, 93), (236, 101), (228, 101), (228, 109), (228, 117), (228, 125),\n",
        "               (220, 125), (212, 117), (204, 109), (196, 101), (188, 93), (180, 93), (180, 101),\n",
        "               (180, 109), (180, 117), (180, 125), (196, 145), (204, 145), (212, 145), (220, 145),\n",
        "               (228, 145), (236, 145), (246, 141), (252, 125), (260, 129), (280, 133)],\n",
        "        vehicles=vehicles)\n",
        "\n",
        "\n",
        "def manhattan(vehicles=4):\n",
        "    instance = Manhattan(\n",
        "        names=range(17),  # the length of the node list\n",
        "        nodes=[(4, 4), (2, 0), (8, 0), (0, 1), (1, 1), (5, 2), (7, 2), (3, 3), (6, 3),\n",
        "               (5, 5), (8, 5), (1, 6), (2, 6), (3, 7), (6, 7), (0, 8), (7, 8)],\n",
        "        vehicles=vehicles)\n",
        "    instance.capacities = [15] * instance.vehicles\n",
        "    instance.demands = [0, 1, 1, 2, 4, 2, 4, 8, 8, 1, 2, 1, 2, 4, 4, 8, 8]\n",
        "    instance.demand = lambda node: int(instance.demands[instance.manager().IndexToNode(node)])\n",
        "    return instance\n",
        "\n",
        "# The library tsp_example canot be installed with pip.\n",
        "# It is contained in the folder with or-tools examples from my lecture."
      ]
    },
    {
      "cell_type": "markdown",
      "metadata": {
        "id": "vXV4K_8e-GuV"
      },
      "source": [
        "The randomly example has the correct dimensions for this exercise. If you want values that change with every call,  omit the seed argument."
      ]
    },
    {
      "cell_type": "code",
      "execution_count": 9,
      "metadata": {
        "id": "ZMYSvXBB-GuV"
      },
      "outputs": [],
      "source": [
        "example = randomly(vehicles=2, n=12, seed=42)\n",
        "manager = example.manager()\n",
        "distance = example.distance\n",
        "num_locations = example.size()\n",
        "location_names = example.names\n",
        "num_teams = example.vehicles"
      ]
    },
    {
      "cell_type": "markdown",
      "metadata": {
        "id": "IW2ijoNj-GuV"
      },
      "source": [
        "Create routing model"
      ]
    },
    {
      "cell_type": "code",
      "execution_count": 10,
      "metadata": {
        "id": "ntOGhb4c-GuV"
      },
      "outputs": [],
      "source": [
        "routing = pywrapcp.RoutingModel(manager)"
      ]
    },
    {
      "cell_type": "markdown",
      "metadata": {
        "id": "RrbPhiCT-GuW"
      },
      "source": [
        "All teams use the same cost model"
      ]
    },
    {
      "cell_type": "code",
      "execution_count": 11,
      "metadata": {
        "id": "Y7jInlOb-GuW"
      },
      "outputs": [],
      "source": [
        "routing.SetArcCostEvaluatorOfAllVehicles(routing.RegisterTransitCallback(distance))"
      ]
    },
    {
      "cell_type": "markdown",
      "metadata": {
        "id": "eQIFtvrC-GuW"
      },
      "source": [
        "Force all teams to process at least one task"
      ]
    },
    {
      "cell_type": "code",
      "execution_count": 13,
      "metadata": {
        "id": "XCNUTCdJ-GuX"
      },
      "outputs": [],
      "source": [
        "# Write your code here ...\n",
        "# Create dimension variables\n",
        "routing.AddConstantDimension(1, num_locations, True, \"count\")\n",
        "# Get dimension variables from model (access by name)\n",
        "count = routing.GetDimensionOrDie(\"count\")\n",
        "\n",
        "for i in range(num_teams):\n",
        "  routing.solver().Add(count.CumulVar(routing.End(i)) > 1)"
      ]
    },
    {
      "cell_type": "markdown",
      "metadata": {
        "id": "3aWUCLVr-GuX"
      },
      "source": [
        "Add interdependencies from exercise description\n",
        "\n",
        "\n",
        "- one central headquarter (location 0)\n",
        "- Every task is bound to a specific location\n",
        "- minimize the overall travelling costs which are known in advance for every pair\n",
        "- respect inter-dependencies among the tasks. For example: A needs to be completed before B\n",
        "- nr of team as imput together with cost matrix (automatically created)"
      ]
    },
    {
      "cell_type": "code",
      "execution_count": 14,
      "metadata": {
        "lines_to_next_cell": 2,
        "id": "Z4oIwm5r-GuX"
      },
      "outputs": [],
      "source": [
        "solver = routing.solver()\n",
        "\n",
        "routing.AddConstantDimension(1, sys.maxsize, True, \"time\")\n",
        "time = routing.GetDimensionOrDie(\"time\")\n",
        "\n",
        "# Write your code here ...\n",
        "# Use time.CumulVar(...)\n",
        "solver.Add(time.CumulVar(1) < time.CumulVar(2))\n",
        "solver.Add(time.CumulVar(2) < time.CumulVar(4))\n",
        "solver.Add(time.CumulVar(2) < time.CumulVar(11))"
      ]
    },
    {
      "cell_type": "markdown",
      "metadata": {
        "id": "s2Rc04Fs-GuX"
      },
      "source": [
        "By default, the OR-Tools routing library does only approximate the optimal solution. For the verification of this exercise, however, you should find an optimal solution, which can be achieved by adapting the solver parameters as follows. Just leave this as it is. The 5 seconds are chosen so that testing is still efficient. Before verifying your result, change the time parameter to 30 seconds for a last run and check whether the result is still the same."
      ]
    },
    {
      "cell_type": "code",
      "execution_count": 15,
      "metadata": {
        "id": "5mO2unN6-GuX"
      },
      "outputs": [],
      "source": [
        "search_parameters = pywrapcp.DefaultRoutingSearchParameters()\n",
        "search_parameters.local_search_metaheuristic = (routing_enums_pb2.LocalSearchMetaheuristic.GUIDED_LOCAL_SEARCH)\n",
        "search_parameters.time_limit.seconds = 5"
      ]
    },
    {
      "cell_type": "markdown",
      "metadata": {
        "id": "_CgKcFIa-GuY"
      },
      "source": [
        "Start solver"
      ]
    },
    {
      "cell_type": "code",
      "execution_count": 16,
      "metadata": {
        "id": "FztQJcyZ-GuY"
      },
      "outputs": [],
      "source": [
        "solution = routing.SolveWithParameters(search_parameters)"
      ]
    },
    {
      "cell_type": "markdown",
      "metadata": {
        "id": "9n3x7iBP-GuY"
      },
      "source": [
        "Print solution"
      ]
    },
    {
      "cell_type": "code",
      "execution_count": 17,
      "metadata": {
        "colab": {
          "base_uri": "https://localhost:8080/"
        },
        "id": "raloZbnD-GuY",
        "outputId": "82c2fb3f-8d42-4432-8449-3715ae59371d"
      },
      "outputs": [
        {
          "output_type": "stream",
          "name": "stdout",
          "text": [
            "Route for vehicle 0:\n",
            "0 > 5 > 8 > 6 > 11 > 3 > 4 > 0\n",
            "Total distance of vehicle 0: 986 miles\n",
            "\n",
            "Route for vehicle 1:\n",
            "0 > 7 > 1 > 2 > 10 > 9 > 0\n",
            "Total distance of vehicle 1: 722 miles\n",
            "\n",
            "Total distance over all vehicles: 1708 miles\n"
          ]
        }
      ],
      "source": [
        "def print_solution(vehicles, cities, manager, routing, solution):\n",
        "    sum_route_distance = 0\n",
        "    for vehicle_id in range(vehicles):\n",
        "        index = routing.Start(vehicle_id)\n",
        "        plan_output = f\"Route for vehicle {vehicle_id}:\\n\"\n",
        "        route_distance = 0\n",
        "        while not routing.IsEnd(index):\n",
        "            plan_output += f\"{cities[manager.IndexToNode(index)]} > \"\n",
        "            previous_index = index\n",
        "            index = solution.Value(routing.NextVar(index))\n",
        "            route_distance += routing.GetArcCostForVehicle(previous_index, index, vehicle_id)\n",
        "        plan_output += f\"{cities[manager.IndexToNode(index)]}\\n\"\n",
        "        plan_output += f\"Total distance of vehicle {vehicle_id}: {route_distance} miles\\n\"\n",
        "        print(plan_output)\n",
        "        sum_route_distance += route_distance\n",
        "    print(f\"Total distance over all vehicles: {sum_route_distance} miles\")\n",
        "\n",
        "if solution:\n",
        "    print_solution(num_teams, location_names, manager, routing, solution)\n",
        "else:\n",
        "    print(\"No solution found.\")"
      ]
    }
  ],
  "metadata": {
    "jupytext": {
      "cell_metadata_filter": "-all",
      "encoding": "# -*- coding: utf-8 -*-",
      "main_language": "python",
      "notebook_metadata_filter": "-all"
    },
    "kernelspec": {
      "display_name": "Python 3 (ipykernel)",
      "language": "python",
      "name": "python3"
    },
    "language_info": {
      "codemirror_mode": {
        "name": "ipython",
        "version": 3
      },
      "file_extension": ".py",
      "mimetype": "text/x-python",
      "name": "python",
      "nbconvert_exporter": "python",
      "pygments_lexer": "ipython3",
      "version": "3.10.4"
    },
    "colab": {
      "provenance": [],
      "toc_visible": true,
      "include_colab_link": true
    }
  },
  "nbformat": 4,
  "nbformat_minor": 0
}
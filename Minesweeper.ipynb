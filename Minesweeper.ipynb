{
  "cells": [
    {
      "cell_type": "markdown",
      "metadata": {
        "id": "view-in-github",
        "colab_type": "text"
      },
      "source": [
        "<a href=\"https://colab.research.google.com/github/teshi24/aiso/blob/main/Minesweeper.ipynb\" target=\"_parent\"><img src=\"https://colab.research.google.com/assets/colab-badge.svg\" alt=\"Open In Colab\"/></a>"
      ]
    },
    {
      "cell_type": "markdown",
      "metadata": {
        "id": "gBJJpa2a0F05"
      },
      "source": [
        "# Minesweeper Puzzle"
      ]
    },
    {
      "cell_type": "markdown",
      "metadata": {
        "id": "qagVbFip0F08"
      },
      "source": [
        "Lucerne University of Applied Sciences and Arts - School of Information Technology"
      ]
    },
    {
      "cell_type": "markdown",
      "metadata": {
        "id": "eGo9sgkm0F08"
      },
      "source": [
        "The player is presented with a grid of squares. Some randomly selected squares, unknown to the player, contain mines. Other squares may display numbers indicating the count of mines present in the immediate neighborhood of the squares. Find all mines.\n",
        "\n",
        "See https://de.wikipedia.org/wiki/Minesweeper or go to http://minesweeperonline.com/ to play"
      ]
    },
    {
      "cell_type": "code",
      "execution_count": 3,
      "metadata": {
        "colab": {
          "base_uri": "https://localhost:8080/"
        },
        "id": "u1yxLH7a0F09",
        "outputId": "1dc4020f-37a5-4581-af63-0300cf801e96"
      },
      "outputs": [
        {
          "output_type": "stream",
          "name": "stdout",
          "text": [
            "Requirement already satisfied: ortools in /usr/local/lib/python3.10/dist-packages (9.10.4067)\n",
            "Requirement already satisfied: absl-py>=2.0.0 in /usr/local/lib/python3.10/dist-packages (from ortools) (2.1.0)\n",
            "Requirement already satisfied: numpy>=1.13.3 in /usr/local/lib/python3.10/dist-packages (from ortools) (1.25.2)\n",
            "Requirement already satisfied: pandas>=2.0.0 in /usr/local/lib/python3.10/dist-packages (from ortools) (2.0.3)\n",
            "Requirement already satisfied: protobuf>=5.26.1 in /usr/local/lib/python3.10/dist-packages (from ortools) (5.26.1)\n",
            "Requirement already satisfied: immutabledict>=3.0.0 in /usr/local/lib/python3.10/dist-packages (from ortools) (4.2.0)\n",
            "Requirement already satisfied: python-dateutil>=2.8.2 in /usr/local/lib/python3.10/dist-packages (from pandas>=2.0.0->ortools) (2.8.2)\n",
            "Requirement already satisfied: pytz>=2020.1 in /usr/local/lib/python3.10/dist-packages (from pandas>=2.0.0->ortools) (2023.4)\n",
            "Requirement already satisfied: tzdata>=2022.1 in /usr/local/lib/python3.10/dist-packages (from pandas>=2.0.0->ortools) (2024.1)\n",
            "Requirement already satisfied: six>=1.5 in /usr/local/lib/python3.10/dist-packages (from python-dateutil>=2.8.2->pandas>=2.0.0->ortools) (1.16.0)\n"
          ]
        }
      ],
      "source": [
        "!pip install ortools"
      ]
    },
    {
      "cell_type": "code",
      "execution_count": 4,
      "metadata": {
        "lines_to_next_cell": 1,
        "id": "opBnRjE50F0-"
      },
      "outputs": [],
      "source": [
        "from ortools.sat.python import cp_model\n",
        "from itertools import product"
      ]
    },
    {
      "cell_type": "markdown",
      "metadata": {
        "id": "CPgANFpc0F0-"
      },
      "source": [
        "Some Minesweeper examples, the first one is from the lecture"
      ]
    },
    {
      "cell_type": "markdown",
      "metadata": {
        "id": "CyC-YZPK0F0_"
      },
      "source": [
        "Pick one of the examples"
      ]
    },
    {
      "cell_type": "markdown",
      "metadata": {
        "id": "0g8jvoEZ0F0_"
      },
      "source": [
        "Create model"
      ]
    },
    {
      "cell_type": "code",
      "execution_count": 66,
      "metadata": {
        "id": "NClLnWJ_0F1A"
      },
      "outputs": [],
      "source": [
        "mine_field1 = [\n",
        "    [\"2\", \"\", \"\", \"\", \"1\"],\n",
        "    [\"2\", \"\", \"4\", \"3\", \"\"],\n",
        "    [\"\", \"2\", \"\", \"1\", \"\"],\n",
        "    [\"\", \"1\", \"\", \"3\", \"\"],\n",
        "    [\"1\", \"\", \"\", \"\", \"\"],\n",
        "]\n",
        "mine_field2 = [\n",
        "    [\"1\", \"\", \"\", \"\", \"2\", \"\", \"\", \"1\"],\n",
        "    [\"\", \"1\", \"2\", \"\", \"3\", \"\", \"\", \"1\"],\n",
        "    [\"\", \"2\", \"\", \"1\", \"\", \"\", \"\", \"0\"],\n",
        "    [\"\", \"2\", \"1\", \"\", \"\", \"2\", \"3\", \"1\"],\n",
        "    [\"\", \"\", \"\", \"2\", \"\", \"\", \"\", \"\"],\n",
        "    [\"1\", \"\", \"\", \"\", \"4\", \"3\", \"\", \"\"],\n",
        "    [\"\", \"1\", \"\", \"\", \"4\", \"\", \"3\", \"\"],\n",
        "    [\"1\", \"\", \"\", \"2\", \"\", \"2\", \"\", \"1\"],\n",
        "]\n",
        "mine_field3 = [\n",
        "    [\"\", \"\", \"\", \"\", \"\", \"1\", \"\", \"\"],\n",
        "    [\"1\", \"2\", \"2\", \"1\", \"\", \"\", \"1\", \"1\"],\n",
        "    [\"\", \"1\", \"\", \"\", \"\", \"\", \"\", \"\"],\n",
        "    [\"\", \"\", \"0\", \"\", \"\", \"1\", \"\", \"1\"],\n",
        "    [\"\", \"1\", \"\", \"\", \"\", \"\", \"\", \"\"],\n",
        "    [\"\", \"\", \"1\", \"\", \"2\", \"3\", \"\", \"\"],\n",
        "    [\"\", \"\", \"\", \"\", \"\", \"\", \"2\", \"1\"],\n",
        "    [\"\", \"1\", \"\", \"2\", \"2\", \"\", \"2\", \"\"],\n",
        "]\n",
        "mine_field4 = [\n",
        "    [\"1\", \"\", \"\", \"2\", \"\", \"2\", \"\", \"2\", \"\", \"\"],\n",
        "    [\"\", \"3\", \"2\", \"\", \"\", \"\", \"4\", \"\", \"\", \"1\"],\n",
        "    [\"\", \"\", \"\", \"1\", \"3\", \"\", \"\", \"\", \"4\", \"\"],\n",
        "    [\"3\", \"\", \"1\", \"\", \"\", \"\", \"3\", \"\", \"\", \"\"],\n",
        "    [\"\", \"2\", \"1\", \"\", \"1\", \"\", \"\", \"3\", \"\", \"2\"],\n",
        "    [\"\", \"3\", \"\", \"2\", \"\", \"\", \"2\", \"\", \"1\", \"\"],\n",
        "    [\"2\", \"\", \"\", \"3\", \"2\", \"\", \"\", \"2\", \"\", \"\"],\n",
        "    [\"\", \"3\", \"\", \"\", \"\", \"3\", \"2\", \"\", \"\", \"3\"],\n",
        "    [\"\", \"\", \"3\", \"\", \"3\", \"3\", \"\", \"\", \"\", \"\"],\n",
        "    [\"\", \"2\", \"\", \"2\", \"\", \"\", \"\", \"\", \"2\", \"\"],\n",
        "]\n",
        "\n",
        "game = mine_field3\n",
        "model = cp_model.CpModel()\n",
        "\n",
        "game_row_count = len(game)\n",
        "game_col_count = len(game[0])\n",
        "\n",
        "# Type your model here ...\n",
        "# treat mines seperately makes the assignment later easier\n",
        "mines = [[model.NewBoolVar(f\"is_a_mine({i},{j})\") for j in range(game_col_count)] for i in range(game_row_count)]\n",
        "board = [[model.NewIntVar(0, 8, f\"({i},{j})\") for j in range(game_col_count)] for i in range(game_row_count)]\n",
        "\n",
        "# preassign numbers\n",
        "for i, row in enumerate(game):\n",
        "    for j, cell in enumerate(row):\n",
        "        if cell != '':\n",
        "          model.Add(board[i][j] == int(cell))\n",
        "          model.Add(mines[i][j] == False)\n",
        "\n",
        "# check neighbourhoods\n",
        "for i in range(game_row_count):\n",
        "  for j in range(game_col_count):\n",
        "    neighbor_mines = []\n",
        "    for di in [-1, 0, 1]:  # those are the indizes around the field\n",
        "      for dj in [-1, 0, 1]: # those as wellare the indizes around the field\n",
        "        ## not itself AND needs to be on board\n",
        "        ni = i + di\n",
        "        nj = j + dj\n",
        "        if (di != 0 or dj != 0) and (0 <= ni < game_row_count) and (0 <= nj < game_col_count):\n",
        "          neighbor_mines.append(mines[ni][nj])\n",
        "    constraint = model.Add(sum(neighbor_mines) == board[i][j])\n",
        "    # todo: enable and check impact\n",
        "    # constraint.OnlyEnforceIf(mines[i][j].Not()) ## the issue here is, that we suddenly get duplicated solutions\n",
        "\n",
        "\n",
        "\n"
      ]
    },
    {
      "cell_type": "markdown",
      "metadata": {
        "id": "1G8_Xgnp0F1A"
      },
      "source": [
        "Callback for solution printing"
      ]
    },
    {
      "cell_type": "code",
      "execution_count": 11,
      "metadata": {
        "id": "HvXXIeXF0F1A"
      },
      "outputs": [],
      "source": [
        "class SolutionPrinter(cp_model.CpSolverSolutionCallback):\n",
        "\n",
        "    def __init__(self, variables, game):\n",
        "        cp_model.CpSolverSolutionCallback.__init__(self)\n",
        "        self.__variables = variables\n",
        "\n",
        "    def on_solution_callback(self):\n",
        "        for i in range(len(self.__variables)):\n",
        "            for j in range(len(self.__variables)):\n",
        "                if self.Value(self.__variables[i][j]) == 1:\n",
        "                    print(\"[💣]\\t\", end='')\n",
        "                elif game[i][j] == \"\":\n",
        "                    print(\"[  ]\\t\", end='')\n",
        "                else:\n",
        "                    print(\"[ {}]\\t\".format(game[i][j]), end='')\n",
        "            print(\"\\n\")\n",
        "        print(\"\\n\\n\")"
      ]
    },
    {
      "cell_type": "markdown",
      "metadata": {
        "id": "vJOPIqBp0F1B"
      },
      "source": [
        "Solve and print all solutions"
      ]
    },
    {
      "cell_type": "code",
      "execution_count": 67,
      "metadata": {
        "colab": {
          "base_uri": "https://localhost:8080/"
        },
        "id": "2Zk9GDk40F1B",
        "outputId": "c9cb3426-2f25-411f-b09b-79816bec713e"
      },
      "outputs": [
        {
          "output_type": "stream",
          "name": "stdout",
          "text": [
            "[  ]\t[💣]\t[💣]\t[  ]\t[  ]\t[ 1]\t[💣]\t[  ]\t\n",
            "\n",
            "[ 1]\t[ 2]\t[ 2]\t[ 1]\t[  ]\t[  ]\t[ 1]\t[ 1]\t\n",
            "\n",
            "[  ]\t[ 1]\t[  ]\t[  ]\t[  ]\t[  ]\t[  ]\t[  ]\t\n",
            "\n",
            "[💣]\t[  ]\t[ 0]\t[  ]\t[  ]\t[ 1]\t[  ]\t[ 1]\t\n",
            "\n",
            "[  ]\t[ 1]\t[  ]\t[  ]\t[  ]\t[  ]\t[💣]\t[  ]\t\n",
            "\n",
            "[  ]\t[  ]\t[ 1]\t[  ]\t[ 2]\t[ 3]\t[  ]\t[  ]\t\n",
            "\n",
            "[  ]\t[  ]\t[💣]\t[  ]\t[💣]\t[💣]\t[ 2]\t[ 1]\t\n",
            "\n",
            "[  ]\t[ 1]\t[  ]\t[ 2]\t[ 2]\t[  ]\t[ 2]\t[💣]\t\n",
            "\n",
            "\n",
            "\n",
            "\n",
            "4\n"
          ]
        }
      ],
      "source": [
        "solver = cp_model.CpSolver()\n",
        "solver.parameters.enumerate_all_solutions = True\n",
        "status = solver.Solve(model, SolutionPrinter(mines, game))\n",
        "print(status)"
      ]
    },
    {
      "cell_type": "code",
      "execution_count": 54,
      "metadata": {
        "colab": {
          "base_uri": "https://localhost:8080/"
        },
        "id": "ozXi1yz90F1B",
        "outputId": "5239f801-8d32-47cd-df46-dd27a88afdbc"
      },
      "outputs": [
        {
          "output_type": "stream",
          "name": "stdout",
          "text": [
            "Runtime:   0.005506531ms\n",
            "Booleans:  0\n",
            "Failures:  0\n",
            "Branches:  0\n"
          ]
        }
      ],
      "source": [
        "print(f\"Runtime:   {solver.WallTime()}ms\")\n",
        "print(f\"Booleans:  {solver.NumBooleans()}\")\n",
        "print(f\"Failures:  {solver.NumConflicts()}\")\n",
        "print(f\"Branches:  {solver.NumBranches()}\")\n"
      ]
    },
    {
      "cell_type": "code",
      "source": [
        "# game 1\n",
        "# with still to many results, nr 1\n",
        "# Runtime:   0.6281455770000001ms\n",
        "# Booleans:  22\n",
        "# Failures:  30\n",
        "# Branches:  968\n",
        "\n",
        "# with the right results\n",
        "# Runtime:   0.00293362ms\n",
        "# Booleans:  0\n",
        "# Failures:  0\n",
        "# Branches:  0\n",
        "## bool var\n",
        "# Runtime:   0.011351261000000001ms\n",
        "# Booleans:  0\n",
        "# Failures:  0\n",
        "# Branches:  0\n",
        "\n",
        "# game 2\n",
        "# Runtime:   0.007256221ms\n",
        "# Booleans:  0\n",
        "# Failures:  0\n",
        "# Branches:  0\n",
        "## boolVar\n",
        "# Runtime:   0.0078048710000000006ms\n",
        "# Booleans:  0\n",
        "# Failures:  0\n",
        "# Branches:  0\n",
        "\n",
        "# game 3\n",
        "# Runtime:   0.020923257ms\n",
        "# Booleans:  0\n",
        "# Failures:  0\n",
        "# Branches:  0\n",
        "## boolVar\n",
        "# Runtime:   0.013626804000000001ms\n",
        "# Booleans:  0\n",
        "# Failures:  0\n",
        "# Branches:  0\n",
        "\n",
        "# game 4\n",
        "# Runtime:   0.031164788000000002ms\n",
        "# Booleans:  0\n",
        "# Failures:  0\n",
        "# Branches:  0\n",
        "## bool var\n",
        "# Runtime:   0.012166152000000001ms\n",
        "# Booleans:  0\n",
        "# Failures:  0\n",
        "# Branches:  0"
      ],
      "metadata": {
        "id": "T7LZJDK9IJsj"
      },
      "execution_count": 55,
      "outputs": []
    },
    {
      "cell_type": "code",
      "source": [],
      "metadata": {
        "id": "1jNiJVqhPK07"
      },
      "execution_count": null,
      "outputs": []
    }
  ],
  "metadata": {
    "jupytext": {
      "cell_metadata_filter": "-all",
      "main_language": "python",
      "notebook_metadata_filter": "-all",
      "text_representation": {
        "extension": ".py",
        "format_name": "percent"
      }
    },
    "kernelspec": {
      "display_name": "Python 3 (ipykernel)",
      "language": "python",
      "name": "python3"
    },
    "language_info": {
      "codemirror_mode": {
        "name": "ipython",
        "version": 3
      },
      "file_extension": ".py",
      "mimetype": "text/x-python",
      "name": "python",
      "nbconvert_exporter": "python",
      "pygments_lexer": "ipython3",
      "version": "3.10.4"
    },
    "colab": {
      "provenance": [],
      "include_colab_link": true
    }
  },
  "nbformat": 4,
  "nbformat_minor": 0
}
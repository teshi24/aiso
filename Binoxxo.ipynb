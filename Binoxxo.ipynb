{
  "cells": [
    {
      "cell_type": "markdown",
      "metadata": {
        "id": "view-in-github",
        "colab_type": "text"
      },
      "source": [
        "<a href=\"https://colab.research.google.com/github/teshi24/aiso/blob/main/Binoxxo.ipynb\" target=\"_parent\"><img src=\"https://colab.research.google.com/assets/colab-badge.svg\" alt=\"Open In Colab\"/></a>"
      ]
    },
    {
      "cell_type": "markdown",
      "metadata": {
        "id": "_N2DFisfCYQ7"
      },
      "source": [
        "# Binoxxo Puzzle"
      ]
    },
    {
      "cell_type": "markdown",
      "metadata": {
        "id": "uPwnUlntCYQ-"
      },
      "source": [
        "Lucerne University of Applied Sciences and Arts - School of Information Technology"
      ]
    },
    {
      "cell_type": "markdown",
      "metadata": {
        "id": "lcExt-Q2CYQ_"
      },
      "source": [
        "Place X or O in the empty cells so that there are no more than two consecutive X's or O's in a row or a column.\n",
        "The number of X's is the same as the number of O's in each row and column, and all rows and columns are unique.\n",
        "\n",
        "Find more Binoxxo puzzles [here](https://www.binoxxo.ch/Binoxxo-Raetselbuch/)"
      ]
    },
    {
      "cell_type": "code",
      "execution_count": 1,
      "metadata": {
        "colab": {
          "base_uri": "https://localhost:8080/"
        },
        "id": "nliFWI1mCYRA",
        "outputId": "894d4419-0892-4fc6-ec0c-c30e5176849c"
      },
      "outputs": [
        {
          "output_type": "stream",
          "name": "stdout",
          "text": [
            "Collecting ortools\n",
            "  Downloading ortools-9.10.4067-cp310-cp310-manylinux_2_17_x86_64.manylinux2014_x86_64.whl (26.7 MB)\n",
            "\u001b[2K     \u001b[90m━━━━━━━━━━━━━━━━━━━━━━━━━━━━━━━━━━━━━━━━\u001b[0m \u001b[32m26.7/26.7 MB\u001b[0m \u001b[31m27.0 MB/s\u001b[0m eta \u001b[36m0:00:00\u001b[0m\n",
            "\u001b[?25hCollecting absl-py>=2.0.0 (from ortools)\n",
            "  Downloading absl_py-2.1.0-py3-none-any.whl (133 kB)\n",
            "\u001b[2K     \u001b[90m━━━━━━━━━━━━━━━━━━━━━━━━━━━━━━━━━━━━━━━━\u001b[0m \u001b[32m133.7/133.7 kB\u001b[0m \u001b[31m14.4 MB/s\u001b[0m eta \u001b[36m0:00:00\u001b[0m\n",
            "\u001b[?25hRequirement already satisfied: numpy>=1.13.3 in /usr/local/lib/python3.10/dist-packages (from ortools) (1.25.2)\n",
            "Requirement already satisfied: pandas>=2.0.0 in /usr/local/lib/python3.10/dist-packages (from ortools) (2.0.3)\n",
            "Collecting protobuf>=5.26.1 (from ortools)\n",
            "  Downloading protobuf-5.26.1-cp37-abi3-manylinux2014_x86_64.whl (302 kB)\n",
            "\u001b[2K     \u001b[90m━━━━━━━━━━━━━━━━━━━━━━━━━━━━━━━━━━━━━━━━\u001b[0m \u001b[32m302.8/302.8 kB\u001b[0m \u001b[31m27.4 MB/s\u001b[0m eta \u001b[36m0:00:00\u001b[0m\n",
            "\u001b[?25hCollecting immutabledict>=3.0.0 (from ortools)\n",
            "  Downloading immutabledict-4.2.0-py3-none-any.whl (4.7 kB)\n",
            "Requirement already satisfied: python-dateutil>=2.8.2 in /usr/local/lib/python3.10/dist-packages (from pandas>=2.0.0->ortools) (2.8.2)\n",
            "Requirement already satisfied: pytz>=2020.1 in /usr/local/lib/python3.10/dist-packages (from pandas>=2.0.0->ortools) (2023.4)\n",
            "Requirement already satisfied: tzdata>=2022.1 in /usr/local/lib/python3.10/dist-packages (from pandas>=2.0.0->ortools) (2024.1)\n",
            "Requirement already satisfied: six>=1.5 in /usr/local/lib/python3.10/dist-packages (from python-dateutil>=2.8.2->pandas>=2.0.0->ortools) (1.16.0)\n",
            "Installing collected packages: protobuf, immutabledict, absl-py, ortools\n",
            "  Attempting uninstall: protobuf\n",
            "    Found existing installation: protobuf 3.20.3\n",
            "    Uninstalling protobuf-3.20.3:\n",
            "      Successfully uninstalled protobuf-3.20.3\n",
            "  Attempting uninstall: absl-py\n",
            "    Found existing installation: absl-py 1.4.0\n",
            "    Uninstalling absl-py-1.4.0:\n",
            "      Successfully uninstalled absl-py-1.4.0\n",
            "\u001b[31mERROR: pip's dependency resolver does not currently take into account all the packages that are installed. This behaviour is the source of the following dependency conflicts.\n",
            "cudf-cu12 24.4.1 requires protobuf<5,>=3.20, but you have protobuf 5.26.1 which is incompatible.\n",
            "google-ai-generativelanguage 0.6.2 requires protobuf!=3.20.0,!=3.20.1,!=4.21.0,!=4.21.1,!=4.21.2,!=4.21.3,!=4.21.4,!=4.21.5,<5.0.0dev,>=3.19.5, but you have protobuf 5.26.1 which is incompatible.\n",
            "google-api-core 2.11.1 requires protobuf!=3.20.0,!=3.20.1,!=4.21.0,!=4.21.1,!=4.21.2,!=4.21.3,!=4.21.4,!=4.21.5,<5.0.0.dev0,>=3.19.5, but you have protobuf 5.26.1 which is incompatible.\n",
            "google-cloud-aiplatform 1.48.0 requires protobuf!=3.20.0,!=3.20.1,!=4.21.0,!=4.21.1,!=4.21.2,!=4.21.3,!=4.21.4,!=4.21.5,<5.0.0dev,>=3.19.5, but you have protobuf 5.26.1 which is incompatible.\n",
            "google-cloud-bigquery-connection 1.12.1 requires protobuf!=3.20.0,!=3.20.1,!=4.21.0,!=4.21.1,!=4.21.2,!=4.21.3,!=4.21.4,!=4.21.5,<5.0.0dev,>=3.19.5, but you have protobuf 5.26.1 which is incompatible.\n",
            "google-cloud-bigquery-storage 2.25.0 requires protobuf!=3.20.0,!=3.20.1,!=4.21.0,!=4.21.1,!=4.21.2,!=4.21.3,!=4.21.4,!=4.21.5,<5.0.0dev,>=3.19.5, but you have protobuf 5.26.1 which is incompatible.\n",
            "google-cloud-datastore 2.15.2 requires protobuf!=3.20.0,!=3.20.1,!=4.21.0,!=4.21.1,!=4.21.2,!=4.21.3,!=4.21.4,!=4.21.5,<5.0.0dev,>=3.19.5, but you have protobuf 5.26.1 which is incompatible.\n",
            "google-cloud-firestore 2.11.1 requires protobuf!=3.20.0,!=3.20.1,!=4.21.0,!=4.21.1,!=4.21.2,!=4.21.3,!=4.21.4,!=4.21.5,<5.0.0dev,>=3.19.5, but you have protobuf 5.26.1 which is incompatible.\n",
            "google-cloud-functions 1.13.3 requires protobuf!=3.20.0,!=3.20.1,!=4.21.0,!=4.21.1,!=4.21.2,!=4.21.3,!=4.21.4,!=4.21.5,<5.0.0dev,>=3.19.5, but you have protobuf 5.26.1 which is incompatible.\n",
            "google-cloud-iam 2.15.0 requires protobuf!=3.20.0,!=3.20.1,!=4.21.0,!=4.21.1,!=4.21.2,!=4.21.3,!=4.21.4,!=4.21.5,<5.0.0dev,>=3.19.5, but you have protobuf 5.26.1 which is incompatible.\n",
            "google-cloud-language 2.13.3 requires protobuf!=3.20.0,!=3.20.1,!=4.21.0,!=4.21.1,!=4.21.2,!=4.21.3,!=4.21.4,!=4.21.5,<5.0.0dev,>=3.19.5, but you have protobuf 5.26.1 which is incompatible.\n",
            "google-cloud-resource-manager 1.12.3 requires protobuf!=3.20.0,!=3.20.1,!=4.21.0,!=4.21.1,!=4.21.2,!=4.21.3,!=4.21.4,!=4.21.5,<5.0.0dev,>=3.19.5, but you have protobuf 5.26.1 which is incompatible.\n",
            "google-cloud-translate 3.11.3 requires protobuf!=3.20.0,!=3.20.1,!=4.21.0,!=4.21.1,!=4.21.2,!=4.21.3,!=4.21.4,!=4.21.5,<5.0.0dev,>=3.19.5, but you have protobuf 5.26.1 which is incompatible.\n",
            "googleapis-common-protos 1.63.0 requires protobuf!=3.20.0,!=3.20.1,!=4.21.1,!=4.21.2,!=4.21.3,!=4.21.4,!=4.21.5,<5.0.0.dev0,>=3.19.5, but you have protobuf 5.26.1 which is incompatible.\n",
            "grpc-google-iam-v1 0.13.0 requires protobuf!=3.20.0,!=3.20.1,!=4.21.1,!=4.21.2,!=4.21.3,!=4.21.4,!=4.21.5,<5.0.0dev,>=3.19.5, but you have protobuf 5.26.1 which is incompatible.\n",
            "proto-plus 1.23.0 requires protobuf<5.0.0dev,>=3.19.0, but you have protobuf 5.26.1 which is incompatible.\n",
            "tensorflow 2.15.0 requires protobuf!=4.21.0,!=4.21.1,!=4.21.2,!=4.21.3,!=4.21.4,!=4.21.5,<5.0.0dev,>=3.20.3, but you have protobuf 5.26.1 which is incompatible.\n",
            "tensorflow-metadata 1.15.0 requires protobuf<4.21,>=3.20.3; python_version < \"3.11\", but you have protobuf 5.26.1 which is incompatible.\u001b[0m\u001b[31m\n",
            "\u001b[0mSuccessfully installed absl-py-2.1.0 immutabledict-4.2.0 ortools-9.10.4067 protobuf-5.26.1\n"
          ]
        }
      ],
      "source": [
        "!pip install ortools\n",
        "from ortools.sat.python import cp_model\n",
        "from itertools import product"
      ]
    },
    {
      "cell_type": "markdown",
      "metadata": {
        "id": "0MY6a7C2CYRD"
      },
      "source": [
        "Binoxxo puzzle from lecture"
      ]
    },
    {
      "cell_type": "markdown",
      "metadata": {
        "id": "OKGTLeDOCYRE"
      },
      "source": [
        "And two more examples"
      ]
    },
    {
      "cell_type": "markdown",
      "metadata": {
        "id": "k4Ft5Z7jCYRF"
      },
      "source": [
        "Pick one of the examples"
      ]
    },
    {
      "cell_type": "markdown",
      "metadata": {
        "id": "BCoPnoT6CYRG"
      },
      "source": [
        "Create model"
      ]
    },
    {
      "cell_type": "code",
      "execution_count": 17,
      "metadata": {
        "id": "CbhgGmZzCYRH"
      },
      "outputs": [],
      "source": [
        "# this one is from lecture\n",
        "binoxxo1 = [\n",
        "    [\"\", \"1\", \"\", \"\", \"\", \"\", \"\", \"\", \"\", \"\"],\n",
        "    [\"\", \"\", \"\", \"0\", \"\", \"\", \"\", \"\", \"\", \"\"],\n",
        "    [\"\", \"1\", \"1\", \"\", \"\", \"\", \"\", \"\", \"\", \"\"],\n",
        "    [\"\", \"\", \"\", \"\", \"0\", \"0\", \"\", \"\", \"\", \"0\"],\n",
        "    [\"1\", \"\", \"\", \"\", \"\", \"\", \"1\", \"1\", \"\", \"\"],\n",
        "    [\"\", \"1\", \"\", \"\", \"1\", \"\", \"\", \"\", \"\", \"\"],\n",
        "    [\"\", \"\", \"\", \"0\", \"\", \"\", \"1\", \"\", \"\", \"\"],\n",
        "    [\"\", \"0\", \"\", \"\", \"\", \"\", \"\", \"0\", \"\", \"0\"],\n",
        "    [\"\", \"\", \"\", \"\", \"0\", \"\", \"\", \"\", \"\", \"\"],\n",
        "    [\"0\", \"\", \"\", \"\", \"\", \"\", \"\", \"\", \"\", \"0\"]\n",
        "]\n",
        "\n",
        "binoxxo2 = [\n",
        "    [\"\", \"\", \"0\", \"0\", \"\", \"\", \"\", \"\", \"\", \"\"],\n",
        "    [\"\", \"\", \"\", \"0\", \"\", \"\", \"\", \"\", \"\", \"\"],\n",
        "    [\"0\", \"\", \"\", \"\", \"1\", \"\", \"\", \"1\", \"\", \"\"],\n",
        "    [\"\", \"\", \"\", \"\", \"\", \"0\", \"\", \"\", \"\", \"\"],\n",
        "    [\"0\", \"\", \"\", \"0\", \"\", \"\", \"\", \"\", \"\", \"\"],\n",
        "    [\"\", \"\", \"\", \"0\", \"\", \"\", \"\", \"\", \"1\", \"\"],\n",
        "    [\"\", \"\", \"\", \"\", \"\", \"\", \"\", \"1\", \"1\", \"\"],\n",
        "    [\"1\", \"\", \"\", \"\", \"\", \"\", \"\", \"1\", \"\", \"\"],\n",
        "    [\"\", \"\", \"\", \"\", \"\", \"0\", \"\", \"\", \"\", \"0\"],\n",
        "    [\"\", \"\", \"\", \"\", \"1\", \"\", \"0\", \"\", \"\", \"\"]\n",
        "]\n",
        "binoxxo3 = [\n",
        "    [\"1\", \"\", \"\", \"\", \"\", \"\", \"0\", \"0\", \"\", \"\"],\n",
        "    [\"\", \"\", \"\", \"0\", \"\", \"\", \"\", \"\", \"1\", \"\"],\n",
        "    [\"\", \"\", \"0\", \"\", \"\", \"\", \"\", \"\", \"\", \"\"],\n",
        "    [\"\", \"\", \"\", \"0\", \"\", \"1\", \"\", \"\", \"\", \"0\"],\n",
        "    [\"1\", \"\", \"1\", \"\", \"\", \"1\", \"\", \"\", \"1\", \"\"],\n",
        "    [\"\", \"\", \"1\", \"\", \"1\", \"\", \"\", \"\", \"\", \"\"],\n",
        "    [\"\", \"\", \"\", \"\", \"1\", \"1\", \"\", \"\", \"1\", \"\"],\n",
        "    [\"\", \"\", \"\", \"\", \"\", \"\", \"\", \"\", \"\", \"0\"],\n",
        "    [\"\", \"1\", \"\", \"1\", \"\", \"\", \"\", \"\", \"\", \"\"],\n",
        "    [\"\", \"1\", \"\", \"\", \"1\", \"\", \"\", \"1\", \"1\", \"\"]\n",
        "]\n",
        "solution_bin3 =  [\n",
        "    [\"1\", \"0\", \"0\", \"1\", \"0\", \"1\", \"0\", \"0\", \"1\", \"1\"],\n",
        "    [\"1\", \"0\", \"1\", \"0\", \"1\", \"0\", \"1\", \"0\", \"1\", \"0\"],\n",
        "    [\"0\", \"1\", \"0\", \"1\", \"0\", \"0\", \"1\", \"1\", \"0\", \"1\"],\n",
        "    [\"1\", \"1\", \"0\", \"0\", \"1\", \"1\", \"0\", \"1\", \"0\", \"0\"],\n",
        "    [\"1\", \"0\", \"1\", \"1\", \"0\", \"1\", \"0\", \"0\", \"1\", \"0\"],\n",
        "    [\"0\", \"0\", \"1\", \"0\", \"1\", \"0\", \"1\", \"1\", \"0\", \"1\"],\n",
        "    [\"0\", \"1\", \"0\", \"0\", \"1\", \"1\", \"0\", \"0\", \"1\", \"1\"],\n",
        "    [\"1\", \"0\", \"1\", \"1\", \"0\", \"0\", \"1\", \"1\", \"0\", \"0\"],\n",
        "    [\"0\", \"1\", \"0\", \"1\", \"0\", \"1\", \"1\", \"0\", \"0\", \"1\"],\n",
        "    [\"0\", \"1\", \"1\", \"0\", \"1\", \"0\", \"0\", \"1\", \"1\", \"0\"]\n",
        "]\n",
        "\n",
        "\n",
        "\n",
        "game = binoxxo2\n",
        "\n",
        "model = cp_model.CpModel()\n",
        "\n",
        "# Type your model here ...\n",
        "game_row_count = len(game)\n",
        "game_col_count = len(game[0])\n",
        "\n",
        "board = [[model.NewIntVar(0, 1, f\"({i},{j})\") for j in range(game_col_count)] for i in range(game_row_count)]\n",
        "\n",
        "\n",
        "# # to check if there are constraint issues:\n",
        "# for i, row in enumerate(solution_bin3):\n",
        "#     for j, cell in enumerate(row):\n",
        "#         cell_value = int(cell)\n",
        "#         if cell_value == 0 or cell_value == 1:\n",
        "#           model.Add(board[i][j] == cell_value)\n",
        "\n",
        "\n",
        "# [ model.Add(board[i][j] == cell) for i, row in enumerate(game) for j, cell in enumerate(row) if cell == 0 or cell == 1 ]\n",
        "for i, row in enumerate(game):\n",
        "    for j, cell in enumerate(row):\n",
        "        if cell != '':\n",
        "          cell_value = int(cell)\n",
        "          if cell_value == 0 or cell_value == 1:\n",
        "            model.Add(board[i][j] == cell_value)\n",
        "\n",
        "transposed_board = [[board[row][col] for row in range(game_row_count)] for col in range(game_col_count)]\n",
        "\n",
        "for i in range(game_row_count):\n",
        "  model.Add(sum([board[i][j] for j in range(game_col_count)]) == 5) # Rows 5xs and 5os\n",
        "  model.Add(sum([board[j][i] for j in range(game_col_count)]) == 5) # Columns 5xs and 5os\n",
        "\n",
        "  for j in range(game_col_count - 2):\n",
        "    model.AddLinearConstraint(sum(board[i][k] for k in range(j, j+3)), lb=1, ub=2)\n",
        "    model.AddLinearConstraint(sum(transposed_board[i][k] for k in range(j, j+3)), lb=1, ub=2)\n",
        "\n",
        "\n",
        "for i in range(game_row_count):\n",
        "    for j in range(i + 1, game_row_count):\n",
        "        is_different = [model.NewBoolVar(f'is_diff_{i}_{j}_{k}') for k in range(game_col_count)]\n",
        "        for k in range(game_col_count):\n",
        "            model.Add(board[i][k] != board[j][k]).OnlyEnforceIf(is_different[k])\n",
        "            model.Add(board[i][k] == board[j][k]).OnlyEnforceIf(is_different[k].Not())\n",
        "        model.Add(sum(is_different) >= 1)\n",
        "\n",
        "\n",
        "\n",
        "#### old constructions\n",
        "# # Add constraint to the model to ensure all integers are different\n",
        "# model.AddAllDifferent([sum([board[i][j] * 10**(game_col_count - j - 1) for j in range(game_col_count)]) for i in range(game_row_count)])\n",
        "\n"
      ]
    },
    {
      "cell_type": "markdown",
      "metadata": {
        "id": "_Fma1VH7CYRH"
      },
      "source": [
        "\n",
        "Callback for solution printing"
      ]
    },
    {
      "cell_type": "code",
      "execution_count": 3,
      "metadata": {
        "id": "71ikpDA7CYRI"
      },
      "outputs": [],
      "source": [
        "class SolutionPrinter(cp_model.CpSolverSolutionCallback):\n",
        "\n",
        "    def __init__(self, variables):\n",
        "        cp_model.CpSolverSolutionCallback.__init__(self)\n",
        "        self.__variables = variables\n",
        "\n",
        "    def on_solution_callback(self):\n",
        "        mapper = {0:'O', 1:'X'}\n",
        "        for i in range(len(self.__variables)):\n",
        "            for j in range(len(self.__variables)):\n",
        "                print(f\"[{mapper[self.Value(self.__variables[i][j])]}] \", end='')\n",
        "            print(\"\\n\")\n",
        "        print(\"\\n\")"
      ]
    },
    {
      "cell_type": "markdown",
      "metadata": {
        "id": "Kfj-JCV6CYRI"
      },
      "source": [
        "Solve and print all solutions"
      ]
    },
    {
      "cell_type": "code",
      "execution_count": 18,
      "metadata": {
        "colab": {
          "base_uri": "https://localhost:8080/"
        },
        "id": "kd7YQruwCYRI",
        "outputId": "a7c95483-82ba-4065-9067-e2aaf3b7c663"
      },
      "outputs": [
        {
          "output_type": "stream",
          "name": "stdout",
          "text": [
            "[O] [X] [O] [O] [X] [X] [O] [O] [X] [X] \n",
            "\n",
            "[X] [O] [X] [O] [O] [X] [X] [O] [O] [X] \n",
            "\n",
            "[O] [X] [O] [X] [X] [O] [X] [X] [O] [O] \n",
            "\n",
            "[X] [O] [O] [X] [X] [O] [O] [X] [X] [O] \n",
            "\n",
            "[O] [X] [X] [O] [O] [X] [X] [O] [O] [X] \n",
            "\n",
            "[X] [O] [X] [O] [O] [X] [X] [O] [X] [O] \n",
            "\n",
            "[O] [X] [O] [X] [X] [O] [O] [X] [X] [O] \n",
            "\n",
            "[X] [O] [X] [O] [O] [X] [O] [X] [O] [X] \n",
            "\n",
            "[X] [O] [X] [X] [O] [O] [X] [O] [X] [O] \n",
            "\n",
            "[O] [X] [O] [X] [X] [O] [O] [X] [O] [X] \n",
            "\n",
            "\n",
            "\n",
            "4\n"
          ]
        }
      ],
      "source": [
        "solver = cp_model.CpSolver()\n",
        "solver.parameters.enumerate_all_solutions = True\n",
        "status = solver.Solve(model, SolutionPrinter(board))\n",
        "print(status)"
      ]
    },
    {
      "cell_type": "code",
      "execution_count": 14,
      "metadata": {
        "colab": {
          "base_uri": "https://localhost:8080/"
        },
        "id": "Nvx6Yd9gCYRJ",
        "outputId": "61fc7cda-d694-42b5-b7db-04d931d45246"
      },
      "outputs": [
        {
          "output_type": "stream",
          "name": "stdout",
          "text": [
            "Runtime:   0.015900481ms\n",
            "Booleans:  0\n",
            "Failures:  0\n",
            "Branches:  0\n"
          ]
        }
      ],
      "source": [
        "print(f\"Runtime:   {solver.WallTime()}ms\")\n",
        "print(f\"Booleans:  {solver.NumBooleans()}\")\n",
        "print(f\"Failures:  {solver.NumConflicts()}\")\n",
        "print(f\"Branches:  {solver.NumBranches()}\")"
      ]
    }
  ],
  "metadata": {
    "jupytext": {
      "cell_metadata_filter": "-all",
      "main_language": "python",
      "notebook_metadata_filter": "-all",
      "text_representation": {
        "extension": ".py",
        "format_name": "percent"
      }
    },
    "kernelspec": {
      "display_name": "Python 3 (ipykernel)",
      "language": "python",
      "name": "python3"
    },
    "language_info": {
      "codemirror_mode": {
        "name": "ipython",
        "version": 3
      },
      "file_extension": ".py",
      "mimetype": "text/x-python",
      "name": "python",
      "nbconvert_exporter": "python",
      "pygments_lexer": "ipython3",
      "version": "3.10.4"
    },
    "colab": {
      "provenance": [],
      "include_colab_link": true
    }
  },
  "nbformat": 4,
  "nbformat_minor": 0
}
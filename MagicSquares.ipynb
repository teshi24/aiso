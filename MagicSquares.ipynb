{
  "cells": [
    {
      "cell_type": "markdown",
      "metadata": {
        "id": "view-in-github",
        "colab_type": "text"
      },
      "source": [
        "<a href=\"https://colab.research.google.com/github/teshi24/aiso/blob/main/MagicSquares.ipynb\" target=\"_parent\"><img src=\"https://colab.research.google.com/assets/colab-badge.svg\" alt=\"Open In Colab\"/></a>"
      ]
    },
    {
      "cell_type": "markdown",
      "metadata": {
        "id": "EcrfXUDOqCzg"
      },
      "source": [
        "# Magic Square Puzzle"
      ]
    },
    {
      "cell_type": "markdown",
      "metadata": {
        "id": "Do2ypkxDqCzl"
      },
      "source": [
        "Lucerne University of Applied Sciences and Arts - School of Information Technology\n",
        "\n",
        "A magic square is an arrangement of distinct integers in a square grid, such that the values in each row, in each\n",
        "column and in the two main diagonals all add up to the same number. If n denotes the number of cells,\n",
        "the values 1 to n are to be distributed."
      ]
    },
    {
      "cell_type": "code",
      "execution_count": 1,
      "metadata": {
        "colab": {
          "base_uri": "https://localhost:8080/"
        },
        "id": "WVAyA54gqCzm",
        "outputId": "f8a7dda7-7c46-4d0c-8d6c-02a2a557b6e1"
      },
      "outputs": [
        {
          "output_type": "stream",
          "name": "stdout",
          "text": [
            "Collecting ortools\n",
            "  Downloading ortools-9.10.4067-cp310-cp310-manylinux_2_17_x86_64.manylinux2014_x86_64.whl (26.7 MB)\n",
            "\u001b[2K     \u001b[90m━━━━━━━━━━━━━━━━━━━━━━━━━━━━━━━━━━━━━━━━\u001b[0m \u001b[32m26.7/26.7 MB\u001b[0m \u001b[31m28.3 MB/s\u001b[0m eta \u001b[36m0:00:00\u001b[0m\n",
            "\u001b[?25hCollecting absl-py>=2.0.0 (from ortools)\n",
            "  Downloading absl_py-2.1.0-py3-none-any.whl (133 kB)\n",
            "\u001b[2K     \u001b[90m━━━━━━━━━━━━━━━━━━━━━━━━━━━━━━━━━━━━━━━━\u001b[0m \u001b[32m133.7/133.7 kB\u001b[0m \u001b[31m8.7 MB/s\u001b[0m eta \u001b[36m0:00:00\u001b[0m\n",
            "\u001b[?25hRequirement already satisfied: numpy>=1.13.3 in /usr/local/lib/python3.10/dist-packages (from ortools) (1.25.2)\n",
            "Requirement already satisfied: pandas>=2.0.0 in /usr/local/lib/python3.10/dist-packages (from ortools) (2.0.3)\n",
            "Collecting protobuf>=5.26.1 (from ortools)\n",
            "  Downloading protobuf-5.26.1-cp37-abi3-manylinux2014_x86_64.whl (302 kB)\n",
            "\u001b[2K     \u001b[90m━━━━━━━━━━━━━━━━━━━━━━━━━━━━━━━━━━━━━━━━\u001b[0m \u001b[32m302.8/302.8 kB\u001b[0m \u001b[31m4.6 MB/s\u001b[0m eta \u001b[36m0:00:00\u001b[0m\n",
            "\u001b[?25hCollecting immutabledict>=3.0.0 (from ortools)\n",
            "  Downloading immutabledict-4.2.0-py3-none-any.whl (4.7 kB)\n",
            "Requirement already satisfied: python-dateutil>=2.8.2 in /usr/local/lib/python3.10/dist-packages (from pandas>=2.0.0->ortools) (2.8.2)\n",
            "Requirement already satisfied: pytz>=2020.1 in /usr/local/lib/python3.10/dist-packages (from pandas>=2.0.0->ortools) (2023.4)\n",
            "Requirement already satisfied: tzdata>=2022.1 in /usr/local/lib/python3.10/dist-packages (from pandas>=2.0.0->ortools) (2024.1)\n",
            "Requirement already satisfied: six>=1.5 in /usr/local/lib/python3.10/dist-packages (from python-dateutil>=2.8.2->pandas>=2.0.0->ortools) (1.16.0)\n",
            "Installing collected packages: protobuf, immutabledict, absl-py, ortools\n",
            "  Attempting uninstall: protobuf\n",
            "    Found existing installation: protobuf 3.20.3\n",
            "    Uninstalling protobuf-3.20.3:\n",
            "      Successfully uninstalled protobuf-3.20.3\n",
            "  Attempting uninstall: absl-py\n",
            "    Found existing installation: absl-py 1.4.0\n",
            "    Uninstalling absl-py-1.4.0:\n",
            "      Successfully uninstalled absl-py-1.4.0\n",
            "\u001b[31mERROR: pip's dependency resolver does not currently take into account all the packages that are installed. This behaviour is the source of the following dependency conflicts.\n",
            "cudf-cu12 24.4.1 requires protobuf<5,>=3.20, but you have protobuf 5.26.1 which is incompatible.\n",
            "google-ai-generativelanguage 0.6.2 requires protobuf!=3.20.0,!=3.20.1,!=4.21.0,!=4.21.1,!=4.21.2,!=4.21.3,!=4.21.4,!=4.21.5,<5.0.0dev,>=3.19.5, but you have protobuf 5.26.1 which is incompatible.\n",
            "google-api-core 2.11.1 requires protobuf!=3.20.0,!=3.20.1,!=4.21.0,!=4.21.1,!=4.21.2,!=4.21.3,!=4.21.4,!=4.21.5,<5.0.0.dev0,>=3.19.5, but you have protobuf 5.26.1 which is incompatible.\n",
            "google-cloud-aiplatform 1.48.0 requires protobuf!=3.20.0,!=3.20.1,!=4.21.0,!=4.21.1,!=4.21.2,!=4.21.3,!=4.21.4,!=4.21.5,<5.0.0dev,>=3.19.5, but you have protobuf 5.26.1 which is incompatible.\n",
            "google-cloud-bigquery-connection 1.12.1 requires protobuf!=3.20.0,!=3.20.1,!=4.21.0,!=4.21.1,!=4.21.2,!=4.21.3,!=4.21.4,!=4.21.5,<5.0.0dev,>=3.19.5, but you have protobuf 5.26.1 which is incompatible.\n",
            "google-cloud-bigquery-storage 2.25.0 requires protobuf!=3.20.0,!=3.20.1,!=4.21.0,!=4.21.1,!=4.21.2,!=4.21.3,!=4.21.4,!=4.21.5,<5.0.0dev,>=3.19.5, but you have protobuf 5.26.1 which is incompatible.\n",
            "google-cloud-datastore 2.15.2 requires protobuf!=3.20.0,!=3.20.1,!=4.21.0,!=4.21.1,!=4.21.2,!=4.21.3,!=4.21.4,!=4.21.5,<5.0.0dev,>=3.19.5, but you have protobuf 5.26.1 which is incompatible.\n",
            "google-cloud-firestore 2.11.1 requires protobuf!=3.20.0,!=3.20.1,!=4.21.0,!=4.21.1,!=4.21.2,!=4.21.3,!=4.21.4,!=4.21.5,<5.0.0dev,>=3.19.5, but you have protobuf 5.26.1 which is incompatible.\n",
            "google-cloud-functions 1.13.3 requires protobuf!=3.20.0,!=3.20.1,!=4.21.0,!=4.21.1,!=4.21.2,!=4.21.3,!=4.21.4,!=4.21.5,<5.0.0dev,>=3.19.5, but you have protobuf 5.26.1 which is incompatible.\n",
            "google-cloud-iam 2.15.0 requires protobuf!=3.20.0,!=3.20.1,!=4.21.0,!=4.21.1,!=4.21.2,!=4.21.3,!=4.21.4,!=4.21.5,<5.0.0dev,>=3.19.5, but you have protobuf 5.26.1 which is incompatible.\n",
            "google-cloud-language 2.13.3 requires protobuf!=3.20.0,!=3.20.1,!=4.21.0,!=4.21.1,!=4.21.2,!=4.21.3,!=4.21.4,!=4.21.5,<5.0.0dev,>=3.19.5, but you have protobuf 5.26.1 which is incompatible.\n",
            "google-cloud-resource-manager 1.12.3 requires protobuf!=3.20.0,!=3.20.1,!=4.21.0,!=4.21.1,!=4.21.2,!=4.21.3,!=4.21.4,!=4.21.5,<5.0.0dev,>=3.19.5, but you have protobuf 5.26.1 which is incompatible.\n",
            "google-cloud-translate 3.11.3 requires protobuf!=3.20.0,!=3.20.1,!=4.21.0,!=4.21.1,!=4.21.2,!=4.21.3,!=4.21.4,!=4.21.5,<5.0.0dev,>=3.19.5, but you have protobuf 5.26.1 which is incompatible.\n",
            "googleapis-common-protos 1.63.0 requires protobuf!=3.20.0,!=3.20.1,!=4.21.1,!=4.21.2,!=4.21.3,!=4.21.4,!=4.21.5,<5.0.0.dev0,>=3.19.5, but you have protobuf 5.26.1 which is incompatible.\n",
            "grpc-google-iam-v1 0.13.0 requires protobuf!=3.20.0,!=3.20.1,!=4.21.1,!=4.21.2,!=4.21.3,!=4.21.4,!=4.21.5,<5.0.0dev,>=3.19.5, but you have protobuf 5.26.1 which is incompatible.\n",
            "proto-plus 1.23.0 requires protobuf<5.0.0dev,>=3.19.0, but you have protobuf 5.26.1 which is incompatible.\n",
            "tensorflow 2.15.0 requires protobuf!=4.21.0,!=4.21.1,!=4.21.2,!=4.21.3,!=4.21.4,!=4.21.5,<5.0.0dev,>=3.20.3, but you have protobuf 5.26.1 which is incompatible.\n",
            "tensorflow-metadata 1.15.0 requires protobuf<4.21,>=3.20.3; python_version < \"3.11\", but you have protobuf 5.26.1 which is incompatible.\u001b[0m\u001b[31m\n",
            "\u001b[0mSuccessfully installed absl-py-2.1.0 immutabledict-4.2.0 ortools-9.10.4067 protobuf-5.26.1\n"
          ]
        }
      ],
      "source": [
        "!pip install ortools"
      ]
    },
    {
      "cell_type": "code",
      "execution_count": 3,
      "metadata": {
        "lines_to_next_cell": 1,
        "id": "-VK0YrLTqCzo"
      },
      "outputs": [],
      "source": [
        "from ortools.sat.python import cp_model\n",
        "from itertools import product\n",
        "import math"
      ]
    },
    {
      "cell_type": "markdown",
      "metadata": {
        "id": "v4TpQn_UqCzo"
      },
      "source": [
        "Define magic square size"
      ]
    },
    {
      "cell_type": "markdown",
      "metadata": {
        "id": "Kndy2Dd2qCzp"
      },
      "source": [
        "Create model"
      ]
    },
    {
      "cell_type": "code",
      "execution_count": 23,
      "metadata": {
        "colab": {
          "base_uri": "https://localhost:8080/"
        },
        "id": "BmygI9aHqCzq",
        "outputId": "accd1e81-27d9-42b1-9cfd-590c5fb5a5c7"
      },
      "outputs": [
        {
          "output_type": "execute_result",
          "data": {
            "text/plain": [
              "<ortools.sat.python.cp_model.Constraint at 0x7f4bf05b65f0>"
            ]
          },
          "metadata": {},
          "execution_count": 23
        }
      ],
      "source": [
        "n = 4*4\n",
        "size_float = math.sqrt(n)\n",
        "size = int(size_float)\n",
        "if size != size_float:\n",
        "  raise ValueError(f'sqrt(n) not working for n = {n}')\n",
        "\n",
        "model = cp_model.CpModel()\n",
        "# Type your model here ...\n",
        "board = [[model.NewIntVar(1, n, f\"({i},{j})\") for j in range(size)] for i in range(size)]\n",
        "\n",
        "model.AddAllDifferent([cell for row in board for cell in row])\n",
        "\n",
        "for i in range(1, size):\n",
        "  model.Add(sum([board[i][j] for j in range(size)]) == sum(board[0][j] for j in range(size))) # Rows should have same sum as row 0\n",
        "  model.Add(sum([board[j][i] for j in range(size)]) == sum(board[j][0] for j in range(size))) # Columns should have same sum as column 0\n",
        "\n",
        "model.Add(sum(board[0][j] for j in range(size)) == sum(board[j][0] for j in range(size))) # Columns and rows should have the same sum\n",
        "model.Add(sum([board[i][i] for i in range(size)]) == sum(board[0][j] for j in range(size))) # diagonal 1\n",
        "model.Add(sum([board[i][size-1-i] for i in range(size)]) == sum(board[0][j] for j in range(size))) # diagonal 2\n",
        "\n",
        "\n",
        "model.Add(board[0][0] == 9)\n",
        "model.Add(board[0][size-1] == 8)\n",
        "model.Add(board[size-1][0] == 6)\n",
        "model.Add(board[size-1][size-1] == 11)\n"
      ]
    },
    {
      "cell_type": "markdown",
      "metadata": {
        "id": "KdbvrTdWqCzr"
      },
      "source": [
        "Callback for solution printing (adapt if you do not use an n*n board)"
      ]
    },
    {
      "cell_type": "code",
      "execution_count": 18,
      "metadata": {
        "id": "wlSQXBPkqCzr"
      },
      "outputs": [],
      "source": [
        "class SolutionPrinter(cp_model.CpSolverSolutionCallback):\n",
        "\n",
        "    def __init__(self, variables):\n",
        "        cp_model.CpSolverSolutionCallback.__init__(self)\n",
        "        self.__variables = variables\n",
        "\n",
        "    def on_solution_callback(self):\n",
        "        for i in range(len(self.__variables)):\n",
        "            for j in range(len(self.__variables)):\n",
        "                print(f\"[{self.Value(self.__variables[i][j])}] \", end='')\n",
        "            print(\"\\n\")\n",
        "        print(\"\\n\\n\")"
      ]
    },
    {
      "cell_type": "markdown",
      "metadata": {
        "id": "ki-sLn-YqCzr"
      },
      "source": [
        "Solve and print all solutions"
      ]
    },
    {
      "cell_type": "code",
      "execution_count": 24,
      "metadata": {
        "colab": {
          "base_uri": "https://localhost:8080/"
        },
        "id": "YWbk7MH4qCzr",
        "outputId": "5bfff931-41d2-4ae2-fe7a-a6382d61a999"
      },
      "outputs": [
        {
          "output_type": "stream",
          "name": "stdout",
          "text": [
            "[9] [16] [1] [8] \n",
            "\n",
            "[7] [10] [15] [2] \n",
            "\n",
            "[12] [5] [4] [13] \n",
            "\n",
            "[6] [3] [14] [11] \n",
            "\n",
            "\n",
            "\n",
            "\n",
            "[9] [16] [1] [8] \n",
            "\n",
            "[15] [2] [7] [10] \n",
            "\n",
            "[4] [13] [12] [5] \n",
            "\n",
            "[6] [3] [14] [11] \n",
            "\n",
            "\n",
            "\n",
            "\n",
            "[9] [15] [2] [8] \n",
            "\n",
            "[12] [1] [16] [5] \n",
            "\n",
            "[7] [4] [13] [10] \n",
            "\n",
            "[6] [14] [3] [11] \n",
            "\n",
            "\n",
            "\n",
            "\n",
            "[9] [1] [16] [8] \n",
            "\n",
            "[4] [12] [13] [5] \n",
            "\n",
            "[15] [7] [2] [10] \n",
            "\n",
            "[6] [14] [3] [11] \n",
            "\n",
            "\n",
            "\n",
            "\n",
            "[9] [2] [15] [8] \n",
            "\n",
            "[12] [13] [4] [5] \n",
            "\n",
            "[7] [16] [1] [10] \n",
            "\n",
            "[6] [3] [14] [11] \n",
            "\n",
            "\n",
            "\n",
            "\n",
            "[9] [15] [2] [8] \n",
            "\n",
            "[7] [1] [16] [10] \n",
            "\n",
            "[12] [4] [13] [5] \n",
            "\n",
            "[6] [14] [3] [11] \n",
            "\n",
            "\n",
            "\n",
            "\n",
            "[9] [1] [16] [8] \n",
            "\n",
            "[12] [4] [5] [13] \n",
            "\n",
            "[7] [15] [10] [2] \n",
            "\n",
            "[6] [14] [3] [11] \n",
            "\n",
            "\n",
            "\n",
            "\n",
            "[9] [3] [14] [8] \n",
            "\n",
            "[12] [13] [4] [5] \n",
            "\n",
            "[7] [16] [1] [10] \n",
            "\n",
            "[6] [2] [15] [11] \n",
            "\n",
            "\n",
            "\n",
            "\n",
            "[9] [2] [15] [8] \n",
            "\n",
            "[7] [13] [4] [10] \n",
            "\n",
            "[12] [16] [1] [5] \n",
            "\n",
            "[6] [3] [14] [11] \n",
            "\n",
            "\n",
            "\n",
            "\n",
            "[9] [3] [14] [8] \n",
            "\n",
            "[7] [13] [4] [10] \n",
            "\n",
            "[12] [16] [1] [5] \n",
            "\n",
            "[6] [2] [15] [11] \n",
            "\n",
            "\n",
            "\n",
            "\n",
            "[9] [3] [14] [8] \n",
            "\n",
            "[15] [2] [7] [10] \n",
            "\n",
            "[4] [13] [12] [5] \n",
            "\n",
            "[6] [16] [1] [11] \n",
            "\n",
            "\n",
            "\n",
            "\n",
            "[9] [3] [14] [8] \n",
            "\n",
            "[7] [10] [15] [2] \n",
            "\n",
            "[12] [5] [4] [13] \n",
            "\n",
            "[6] [16] [1] [11] \n",
            "\n",
            "\n",
            "\n",
            "\n",
            "[9] [14] [3] [8] \n",
            "\n",
            "[12] [4] [5] [13] \n",
            "\n",
            "[7] [15] [10] [2] \n",
            "\n",
            "[6] [1] [16] [11] \n",
            "\n",
            "\n",
            "\n",
            "\n",
            "[9] [14] [3] [8] \n",
            "\n",
            "[12] [1] [16] [5] \n",
            "\n",
            "[7] [4] [13] [10] \n",
            "\n",
            "[6] [15] [2] [11] \n",
            "\n",
            "\n",
            "\n",
            "\n",
            "[9] [14] [3] [8] \n",
            "\n",
            "[4] [12] [13] [5] \n",
            "\n",
            "[15] [7] [2] [10] \n",
            "\n",
            "[6] [1] [16] [11] \n",
            "\n",
            "\n",
            "\n",
            "\n",
            "[9] [14] [3] [8] \n",
            "\n",
            "[7] [1] [16] [10] \n",
            "\n",
            "[12] [4] [13] [5] \n",
            "\n",
            "[6] [15] [2] [11] \n",
            "\n",
            "\n",
            "\n",
            "\n"
          ]
        }
      ],
      "source": [
        "solver = cp_model.CpSolver()\n",
        "solver.parameters.enumerate_all_solutions = True\n",
        "status = solver.Solve(model, SolutionPrinter(board))"
      ]
    },
    {
      "cell_type": "code",
      "execution_count": 25,
      "metadata": {
        "colab": {
          "base_uri": "https://localhost:8080/"
        },
        "id": "eyX3CxrpqCzs",
        "outputId": "d40a370f-932a-42bb-90b4-b6a53406576a"
      },
      "outputs": [
        {
          "output_type": "stream",
          "name": "stdout",
          "text": [
            "Runtime:   0.177127695ms\n",
            "Booleans:  252\n",
            "Failures:  494\n",
            "Branches:  3932\n"
          ]
        }
      ],
      "source": [
        "print(f\"Runtime:   {solver.WallTime()}ms\")\n",
        "print(f\"Booleans:  {solver.NumBooleans()}\")\n",
        "print(f\"Failures:  {solver.NumConflicts()}\")\n",
        "print(f\"Branches:  {solver.NumBranches()}\")"
      ]
    }
  ],
  "metadata": {
    "jupytext": {
      "cell_metadata_filter": "-all",
      "main_language": "python",
      "notebook_metadata_filter": "-all",
      "text_representation": {
        "extension": ".py",
        "format_name": "percent"
      }
    },
    "kernelspec": {
      "display_name": "Python 3 (ipykernel)",
      "language": "python",
      "name": "python3"
    },
    "language_info": {
      "codemirror_mode": {
        "name": "ipython",
        "version": 3
      },
      "file_extension": ".py",
      "mimetype": "text/x-python",
      "name": "python",
      "nbconvert_exporter": "python",
      "pygments_lexer": "ipython3",
      "version": "3.10.4"
    },
    "colab": {
      "provenance": [],
      "include_colab_link": true
    }
  },
  "nbformat": 4,
  "nbformat_minor": 0
}
{
  "cells": [
    {
      "cell_type": "markdown",
      "metadata": {
        "id": "view-in-github",
        "colab_type": "text"
      },
      "source": [
        "<a href=\"https://colab.research.google.com/github/teshi24/aiso/blob/main/SumFrameSudoku.ipynb\" target=\"_parent\"><img src=\"https://colab.research.google.com/assets/colab-badge.svg\" alt=\"Open In Colab\"/></a>"
      ]
    },
    {
      "cell_type": "markdown",
      "metadata": {
        "id": "9c5KvSc2ykQJ"
      },
      "source": [
        "# Sum Frame Sudoku Puzzle"
      ]
    },
    {
      "cell_type": "markdown",
      "metadata": {
        "id": "DJiubKz6ykQL"
      },
      "source": [
        "Fill in numbers from 1 to 9 so that each row, column and 3x3 block contains each number exactly once.\n",
        "Numbers in the outside frame equal the sum of the first three numbers in the corresponding row or column\n",
        "in the given direction.\n",
        "\n",
        "Find more examples [here](http://frame-sudoku.blogspot.com)"
      ]
    },
    {
      "cell_type": "code",
      "execution_count": 10,
      "metadata": {
        "colab": {
          "base_uri": "https://localhost:8080/"
        },
        "id": "wNegIy74ykQM",
        "outputId": "eef10484-6c8b-4e4e-c3c6-6c0c86f0774b"
      },
      "outputs": [
        {
          "output_type": "stream",
          "name": "stdout",
          "text": [
            "Requirement already satisfied: ortools in /usr/local/lib/python3.10/dist-packages (9.10.4067)\n",
            "Requirement already satisfied: absl-py>=2.0.0 in /usr/local/lib/python3.10/dist-packages (from ortools) (2.1.0)\n",
            "Requirement already satisfied: numpy>=1.13.3 in /usr/local/lib/python3.10/dist-packages (from ortools) (1.25.2)\n",
            "Requirement already satisfied: pandas>=2.0.0 in /usr/local/lib/python3.10/dist-packages (from ortools) (2.0.3)\n",
            "Requirement already satisfied: protobuf>=5.26.1 in /usr/local/lib/python3.10/dist-packages (from ortools) (5.26.1)\n",
            "Requirement already satisfied: immutabledict>=3.0.0 in /usr/local/lib/python3.10/dist-packages (from ortools) (4.2.0)\n",
            "Requirement already satisfied: python-dateutil>=2.8.2 in /usr/local/lib/python3.10/dist-packages (from pandas>=2.0.0->ortools) (2.8.2)\n",
            "Requirement already satisfied: pytz>=2020.1 in /usr/local/lib/python3.10/dist-packages (from pandas>=2.0.0->ortools) (2023.4)\n",
            "Requirement already satisfied: tzdata>=2022.1 in /usr/local/lib/python3.10/dist-packages (from pandas>=2.0.0->ortools) (2024.1)\n",
            "Requirement already satisfied: six>=1.5 in /usr/local/lib/python3.10/dist-packages (from python-dateutil>=2.8.2->pandas>=2.0.0->ortools) (1.16.0)\n"
          ]
        }
      ],
      "source": [
        "!pip install ortools"
      ]
    },
    {
      "cell_type": "code",
      "execution_count": 12,
      "metadata": {
        "lines_to_next_cell": 1,
        "id": "jD00uJxwykQO"
      },
      "outputs": [],
      "source": [
        "from ortools.sat.python import cp_model\n",
        "from itertools import product"
      ]
    },
    {
      "cell_type": "markdown",
      "metadata": {
        "id": "3oUWxVJCykQO"
      },
      "source": [
        "Sudoku puzzle from slides"
      ]
    },
    {
      "cell_type": "code",
      "execution_count": 22,
      "metadata": {
        "id": "tPuu8X4jykQP"
      },
      "outputs": [],
      "source": [
        "top = [15, 18, 12, 11, 21, 13, 15, 17, 13]\n",
        "right = [22, 8, 15, 22, 12, 11, 15, 13, 17]\n",
        "bottom = [15, 9, 21, 10, 16, 19, 13, 15, 17]\n",
        "left = [8, 15, 22, 11, 13, 21, 18, 19, 8]"
      ]
    },
    {
      "cell_type": "markdown",
      "metadata": {
        "id": "zFeqs53eykQP"
      },
      "source": [
        "And another example (commented out)"
      ]
    },
    {
      "cell_type": "code",
      "execution_count": 4,
      "metadata": {
        "id": "tDBy5cIwykQQ"
      },
      "outputs": [],
      "source": [
        "# top = [21, 12, 12, 13, 14, 18, 10, 19, 16]\n",
        "# right = [20, 15, 10, 22, 8, 15, 17, 15, 13]\n",
        "# bottom = [17, 9, 19, 18, 13, 14, 23, 15, 7]\n",
        "# left = [12, 12, 21, 14, 14, 17, 14, 9, 22]"
      ]
    },
    {
      "cell_type": "markdown",
      "metadata": {
        "id": "gLBgS7UnykQQ"
      },
      "source": [
        "Create model"
      ]
    },
    {
      "cell_type": "code",
      "execution_count": 14,
      "metadata": {
        "id": "y52I4MxnykQR"
      },
      "outputs": [],
      "source": [
        "model = cp_model.CpModel()"
      ]
    },
    {
      "cell_type": "code",
      "execution_count": 48,
      "metadata": {
        "id": "inSnXkUDykQR"
      },
      "outputs": [],
      "source": [
        "# Type your model here ...\n",
        "board =  [[model.NewIntVar(1, 9, f\"({i},{j})\") for j in range(9)] for i in range(9)]\n",
        "\n",
        "# basic sudocu\n",
        "for i in range(9):\n",
        "  model.AddAllDifferent([board[i][j] for j in range(9)]) # Rows\n",
        "  model.AddAllDifferent([board[j][i] for j in range(9)]) # Columns\n",
        "for i in range(3):\n",
        "  for j in range(3):\n",
        "    model.AddAllDifferent([board[i * 3 + di][j * 3 + dj] for di in range(3) for dj in range(3)])\n",
        "board_size = 9\n",
        "\n",
        "# sum stuff\n",
        "# for i in range(9):\n",
        "#   if i < 3 or i >= 6:\n",
        "#         model.Add(sum(board[i][j] for j in range(3)) == top[i])\n",
        "#         model.Add(sum(board[j][i] for j in range(3)) == left[i])\n",
        "#         model.Add(sum(board[i][j] for j in range(9-3, 9)) == bottom[i])\n",
        "#         model.Add(sum(board[j][i] for j in range(9-3, 9)) == right[i])\n",
        "# for i in range(9):\n",
        "#         model.Add(sum(board[i][j] for j in range(3)) == left[i])\n",
        "#         model.Add(sum(board[i][j] for j in range(9-3, 9)) == right[i])\n",
        "#         model.Add(sum(board[j][i] for j in range(3)) == top[i])\n",
        "#         model.Add(sum(board[j][i] for j in range(9-3, 9)) == bottom[i])\n",
        "\n",
        "# for i in range(board_size):\n",
        "#         if i < 3 or i >= 6:  # Apply the sum constraints only to the outer parts of the board\n",
        "#             model.Add(sum(board[i][j] for j in range(3)) == left[i])\n",
        "#             model.Add(sum(board[i][j] for j in range(board_size-3, board_size)) == right[i])\n",
        "#             model.Add(sum(board[j][i] for j in range(3)) == top[i])\n",
        "#             model.Add(sum(board[j][i] for j in range(board_size-3, board_size)) == bottom[i])\n",
        "\n",
        "# for i in range(3):\n",
        "#   for j in range(9):\n",
        "#     # print(f'board item {i}, {j}; top[{j}] = {top[j]}; bottom[{j}] = {bottom[j]}')\n",
        "#     if i == 0:\n",
        "#       model.Add(sum(board[i * 3 + di][j] for di in range(3)) == top[j])\n",
        "#     # elif i == 1:\n",
        "#       # continue\n",
        "#     elif i == 2:\n",
        "#       model.Add(sum(board[i * 3 + di][j] for di in range(3)) == bottom[j])\n",
        "\n",
        "# for i in range(9):\n",
        "#   for j in range(3):\n",
        "#     print(f'board item {i}, {j}; right[{i}] = {right[i]}; left[{i}] = {left[i]}')\n",
        "#     if j == 0:\n",
        "#       # print(f'left {i}: {left[i]}')\n",
        "#       # for dj in range(3):\n",
        "#       #   print(f'board[{i}][{j * 3 + dj}]')\n",
        "#       model.Add(sum(board[i][j * 3 + dj] for dj in range(3)) == left[i])\n",
        "#     # elif j == 1:\n",
        "#       # continue\n",
        "#     elif j == 2:\n",
        "#       # print(f'right {i}: {right[i]}')\n",
        "#       # for dj in range(3):\n",
        "#       #   print(f'board[{i}][{j * 3 + dj}]')\n",
        "#       model.Add(sum(board[i][j * 3 + dj] for dj in range(3)) == right[i])\n",
        "\n"
      ]
    },
    {
      "cell_type": "code",
      "execution_count": null,
      "metadata": {
        "id": "7tQPQWChykQR"
      },
      "outputs": [],
      "source": []
    },
    {
      "cell_type": "markdown",
      "metadata": {
        "id": "3AGtZu7xykQS"
      },
      "source": [
        "Callback for solution printing (adapt if you do not use an n*n board)"
      ]
    },
    {
      "cell_type": "code",
      "execution_count": 38,
      "metadata": {
        "id": "LmVETesKykQS"
      },
      "outputs": [],
      "source": [
        "class SolutionPrinter(cp_model.CpSolverSolutionCallback):\n",
        "\n",
        "    def __init__(self, variables):\n",
        "        cp_model.CpSolverSolutionCallback.__init__(self)\n",
        "        self.__variables = variables\n",
        "        print(variables)\n",
        "\n",
        "    def on_solution_callback(self):\n",
        "        for i in range(len(self.__variables)):\n",
        "            for j in range(len(self.__variables)):\n",
        "                print(f\"[{self.Value(self.__variables[i][j])}] \", end='')\n",
        "            print(\"\\n\")\n",
        "        print(\"\\n\\n\")"
      ]
    },
    {
      "cell_type": "markdown",
      "metadata": {
        "id": "DXOVeYh4ykQS"
      },
      "source": [
        "Solve and print all solutions"
      ]
    },
    {
      "cell_type": "code",
      "execution_count": 49,
      "metadata": {
        "colab": {
          "base_uri": "https://localhost:8080/"
        },
        "id": "PUFySKKJykQS",
        "outputId": "8419be92-3c90-4fb3-f15f-2a4e835f1a1b"
      },
      "outputs": [
        {
          "output_type": "stream",
          "name": "stdout",
          "text": [
            "[[(0,0)(1..9), (0,1)(1..9), (0,2)(1..9), (0,3)(1..9), (0,4)(1..9), (0,5)(1..9), (0,6)(1..9), (0,7)(1..9), (0,8)(1..9)], [(1,0)(1..9), (1,1)(1..9), (1,2)(1..9), (1,3)(1..9), (1,4)(1..9), (1,5)(1..9), (1,6)(1..9), (1,7)(1..9), (1,8)(1..9)], [(2,0)(1..9), (2,1)(1..9), (2,2)(1..9), (2,3)(1..9), (2,4)(1..9), (2,5)(1..9), (2,6)(1..9), (2,7)(1..9), (2,8)(1..9)], [(3,0)(1..9), (3,1)(1..9), (3,2)(1..9), (3,3)(1..9), (3,4)(1..9), (3,5)(1..9), (3,6)(1..9), (3,7)(1..9), (3,8)(1..9)], [(4,0)(1..9), (4,1)(1..9), (4,2)(1..9), (4,3)(1..9), (4,4)(1..9), (4,5)(1..9), (4,6)(1..9), (4,7)(1..9), (4,8)(1..9)], [(5,0)(1..9), (5,1)(1..9), (5,2)(1..9), (5,3)(1..9), (5,4)(1..9), (5,5)(1..9), (5,6)(1..9), (5,7)(1..9), (5,8)(1..9)], [(6,0)(1..9), (6,1)(1..9), (6,2)(1..9), (6,3)(1..9), (6,4)(1..9), (6,5)(1..9), (6,6)(1..9), (6,7)(1..9), (6,8)(1..9)], [(7,0)(1..9), (7,1)(1..9), (7,2)(1..9), (7,3)(1..9), (7,4)(1..9), (7,5)(1..9), (7,6)(1..9), (7,7)(1..9), (7,8)(1..9)], [(8,0)(1..9), (8,1)(1..9), (8,2)(1..9), (8,3)(1..9), (8,4)(1..9), (8,5)(1..9), (8,6)(1..9), (8,7)(1..9), (8,8)(1..9)]]\n",
            "3\n"
          ]
        }
      ],
      "source": [
        "solver = cp_model.CpSolver()\n",
        "solver.parameters.enumerate_all_solutions = True\n",
        "status = solver.Solve(model, SolutionPrinter(board))\n",
        "print(status)"
      ]
    },
    {
      "cell_type": "code",
      "execution_count": 18,
      "metadata": {
        "colab": {
          "base_uri": "https://localhost:8080/"
        },
        "id": "_vGB4ErGykQT",
        "outputId": "fb5f2902-30cc-4580-e15f-1dd8a7a60a75"
      },
      "outputs": [
        {
          "output_type": "stream",
          "name": "stdout",
          "text": [
            "Runtime:   0.003072725ms\n",
            "Booleans:  0\n",
            "Failures:  0\n",
            "Branches:  0\n"
          ]
        }
      ],
      "source": [
        "print(f\"Runtime:   {solver.WallTime()}ms\")\n",
        "print(f\"Booleans:  {solver.NumBooleans()}\")\n",
        "print(f\"Failures:  {solver.NumConflicts()}\")\n",
        "print(f\"Branches:  {solver.NumBranches()}\")"
      ]
    }
  ],
  "metadata": {
    "jupytext": {
      "cell_metadata_filter": "-all",
      "main_language": "python",
      "notebook_metadata_filter": "-all",
      "text_representation": {
        "extension": ".py",
        "format_name": "percent"
      }
    },
    "kernelspec": {
      "display_name": "Python 3 (ipykernel)",
      "language": "python",
      "name": "python3"
    },
    "language_info": {
      "codemirror_mode": {
        "name": "ipython",
        "version": 3
      },
      "file_extension": ".py",
      "mimetype": "text/x-python",
      "name": "python",
      "nbconvert_exporter": "python",
      "pygments_lexer": "ipython3",
      "version": "3.10.4"
    },
    "colab": {
      "provenance": [],
      "include_colab_link": true
    }
  },
  "nbformat": 4,
  "nbformat_minor": 0
}
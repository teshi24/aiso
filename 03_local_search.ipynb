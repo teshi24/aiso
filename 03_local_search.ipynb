{
  "cells": [
    {
      "cell_type": "markdown",
      "metadata": {
        "id": "view-in-github",
        "colab_type": "text"
      },
      "source": [
        "<a href=\"https://colab.research.google.com/github/teshi24/aiso/blob/main/03_local_search.ipynb\" target=\"_parent\"><img src=\"https://colab.research.google.com/assets/colab-badge.svg\" alt=\"Open In Colab\"/></a>"
      ]
    },
    {
      "cell_type": "markdown",
      "metadata": {
        "id": "br4bNFmVnZlo"
      },
      "source": [
        "#  Local Search Algorithms\n",
        "\n",
        "Here, we want to find the shortest path connecting several cities considering the aerial distances. This problem is known as the \"Traveling Sales(man) Problem\".\n",
        "\n",
        "If we have 15 cities to connect, we have 15! different possibilities. This is already bigger than 10^12. You can easily see that the problem becomes complex very quickly. We will have problems to systematically explore the search space. Therefore, we will use local search algorithms to tackle this problem.\n",
        "\n",
        "Local search algorithms start with a solution and try to improve the solution by considering the neighbouring states. The best neighbour will be chosen until no better can be found.\n",
        "\n",
        "\n",
        "Implement your local search algorithm of choice (your version of the simulated annealing, hill-climing or genetic algorithm) to find the shortest path connecting a list of cities!\n",
        "\n",
        "For the **Testat**, you need to find the shortest path between the following cities:\n",
        "\n",
        "`path = ['Sursee', 'Sion', 'Altdorf', 'Landquart', 'Konolfingen', 'Thun', 'Twann', 'Sargans', 'Lausanne', 'Vevey', 'Locarno', 'Hinwil', 'Bern', 'Liestal', 'Lugano']`\n",
        "\n",
        "\n",
        "For each algorithm, I wrote down some hints and implementation suggestions below. You don't need to implement all algorithms to solve the testat exercise. Try to tweak your algorithm such that a good (or even best) solution is found.\n"
      ]
    },
    {
      "cell_type": "code",
      "source": [
        "!git clone https://github.com/iaherzog/search.git"
      ],
      "metadata": {
        "colab": {
          "base_uri": "https://localhost:8080/"
        },
        "id": "sF0168llni46",
        "outputId": "dded6fef-cf93-40ba-b62f-0c136fe2b837"
      },
      "execution_count": null,
      "outputs": [
        {
          "output_type": "stream",
          "name": "stdout",
          "text": [
            "Cloning into 'search'...\n",
            "remote: Enumerating objects: 21, done.\u001b[K\n",
            "remote: Counting objects: 100% (21/21), done.\u001b[K\n",
            "remote: Compressing objects: 100% (19/19), done.\u001b[K\n",
            "remote: Total 21 (delta 5), reused 0 (delta 0), pack-reused 0\u001b[K\n",
            "Unpacking objects: 100% (21/21), 594.11 KiB | 2.28 MiB/s, done.\n"
          ]
        }
      ]
    },
    {
      "cell_type": "code",
      "source": [
        "import sys\n",
        "sys.path.append('/content/search')"
      ],
      "metadata": {
        "id": "yFzuAE2enn_3"
      },
      "execution_count": null,
      "outputs": []
    },
    {
      "cell_type": "markdown",
      "metadata": {
        "id": "RN5InNMmnZlr"
      },
      "source": [
        "## General hints"
      ]
    },
    {
      "cell_type": "markdown",
      "metadata": {
        "id": "_WS10lhwnZlt"
      },
      "source": [
        " You can use the following helper functions to plot visualize your path and to evaluate its cost."
      ]
    },
    {
      "cell_type": "code",
      "execution_count": null,
      "metadata": {
        "id": "anUnjGpHnZlu"
      },
      "outputs": [],
      "source": [
        "import folium\n",
        "map_ch = folium.Map(location=[46.8, 8.33],\n",
        "                    zoom_start=8, tiles=\"Stamen TonerBackground\")\n",
        "\n",
        "\n",
        "def create_map(path, sbb, map):\n",
        "    points = []\n",
        "    first_city = path[0]\n",
        "    for city in path:\n",
        "        points.append([sbb.hubs[city].x, sbb.hubs[city].y])\n",
        "        folium.Marker([sbb.hubs[city].x, sbb.hubs[city].y], popup=city).add_to(map)\n",
        "    points.append([sbb.hubs[first_city].x, sbb.hubs[first_city].y])\n",
        "    #folium.PolyLine(points, color='red').add_to(map)\n",
        "    return map\n",
        "\n",
        "def evaluate_path(path, distance_function):\n",
        "    length = 0\n",
        "    last_city = \"\"\n",
        "    for city in path:\n",
        "        if last_city == \"\":\n",
        "            first_city = city;\n",
        "        if last_city != \"\":\n",
        "            length += distance_function(last_city, city)\n",
        "        last_city = city;\n",
        "    length += distance_function(first_city, last_city)\n",
        "    return length\n"
      ]
    },
    {
      "cell_type": "markdown",
      "metadata": {
        "id": "Ct7l2dhGnZlx"
      },
      "source": [
        "Let's import the data from sbb and viualize our initial path."
      ]
    },
    {
      "cell_type": "code",
      "execution_count": null,
      "metadata": {
        "colab": {
          "base_uri": "https://localhost:8080/",
          "height": 1000
        },
        "id": "EP_vnDchnZlx",
        "outputId": "8e474a6e-a15a-4e1f-dcc6-7d3303918bc9"
      },
      "outputs": [
        {
          "output_type": "stream",
          "name": "stdout",
          "text": [
            "successfully imported 2787 hubs\n",
            "successfully imported 401 train lines\n",
            "path cost = 2009.1265150575216\n",
            "['Sursee', 'Sion', 'Altdorf', 'Landquart', 'Konolfingen', 'Thun', 'Twann', 'Sargans', 'Lausanne', 'Vevey', 'Locarno', 'Hinwil', 'Bern', 'Liestal', 'Lugano']\n"
          ]
        },
        {
          "output_type": "execute_result",
          "data": {
            "text/plain": [
              "<folium.folium.Map at 0x7fe83c9868b0>"
            ],
            "text/html": [
              "<div style=\"width:100%;\"><div style=\"position:relative;width:100%;height:0;padding-bottom:60%;\"><span style=\"color:#565656\">Make this Notebook Trusted to load map: File -> Trust Notebook</span><iframe srcdoc=\"&lt;!DOCTYPE html&gt;\n",
              "&lt;html&gt;\n",
              "&lt;head&gt;\n",
              "    \n",
              "    &lt;meta http-equiv=&quot;content-type&quot; content=&quot;text/html; charset=UTF-8&quot; /&gt;\n",
              "    \n",
              "        &lt;script&gt;\n",
              "            L_NO_TOUCH = false;\n",
              "            L_DISABLE_3D = false;\n",
              "        &lt;/script&gt;\n",
              "    \n",
              "    &lt;style&gt;html, body {width: 100%;height: 100%;margin: 0;padding: 0;}&lt;/style&gt;\n",
              "    &lt;style&gt;#map {position:absolute;top:0;bottom:0;right:0;left:0;}&lt;/style&gt;\n",
              "    &lt;script src=&quot;https://cdn.jsdelivr.net/npm/leaflet@1.9.3/dist/leaflet.js&quot;&gt;&lt;/script&gt;\n",
              "    &lt;script src=&quot;https://code.jquery.com/jquery-1.12.4.min.js&quot;&gt;&lt;/script&gt;\n",
              "    &lt;script src=&quot;https://cdn.jsdelivr.net/npm/bootstrap@5.2.2/dist/js/bootstrap.bundle.min.js&quot;&gt;&lt;/script&gt;\n",
              "    &lt;script src=&quot;https://cdnjs.cloudflare.com/ajax/libs/Leaflet.awesome-markers/2.0.2/leaflet.awesome-markers.js&quot;&gt;&lt;/script&gt;\n",
              "    &lt;link rel=&quot;stylesheet&quot; href=&quot;https://cdn.jsdelivr.net/npm/leaflet@1.9.3/dist/leaflet.css&quot;/&gt;\n",
              "    &lt;link rel=&quot;stylesheet&quot; href=&quot;https://cdn.jsdelivr.net/npm/bootstrap@5.2.2/dist/css/bootstrap.min.css&quot;/&gt;\n",
              "    &lt;link rel=&quot;stylesheet&quot; href=&quot;https://netdna.bootstrapcdn.com/bootstrap/3.0.0/css/bootstrap.min.css&quot;/&gt;\n",
              "    &lt;link rel=&quot;stylesheet&quot; href=&quot;https://cdn.jsdelivr.net/npm/@fortawesome/fontawesome-free@6.2.0/css/all.min.css&quot;/&gt;\n",
              "    &lt;link rel=&quot;stylesheet&quot; href=&quot;https://cdnjs.cloudflare.com/ajax/libs/Leaflet.awesome-markers/2.0.2/leaflet.awesome-markers.css&quot;/&gt;\n",
              "    &lt;link rel=&quot;stylesheet&quot; href=&quot;https://cdn.jsdelivr.net/gh/python-visualization/folium/folium/templates/leaflet.awesome.rotate.min.css&quot;/&gt;\n",
              "    \n",
              "            &lt;meta name=&quot;viewport&quot; content=&quot;width=device-width,\n",
              "                initial-scale=1.0, maximum-scale=1.0, user-scalable=no&quot; /&gt;\n",
              "            &lt;style&gt;\n",
              "                #map_75e69c758481cc251010dac4fbbf9966 {\n",
              "                    position: relative;\n",
              "                    width: 100.0%;\n",
              "                    height: 100.0%;\n",
              "                    left: 0.0%;\n",
              "                    top: 0.0%;\n",
              "                }\n",
              "                .leaflet-container { font-size: 1rem; }\n",
              "            &lt;/style&gt;\n",
              "        \n",
              "&lt;/head&gt;\n",
              "&lt;body&gt;\n",
              "    \n",
              "    \n",
              "            &lt;div class=&quot;folium-map&quot; id=&quot;map_75e69c758481cc251010dac4fbbf9966&quot; &gt;&lt;/div&gt;\n",
              "        \n",
              "&lt;/body&gt;\n",
              "&lt;script&gt;\n",
              "    \n",
              "    \n",
              "            var map_75e69c758481cc251010dac4fbbf9966 = L.map(\n",
              "                &quot;map_75e69c758481cc251010dac4fbbf9966&quot;,\n",
              "                {\n",
              "                    center: [46.8, 8.33],\n",
              "                    crs: L.CRS.EPSG3857,\n",
              "                    zoom: 8,\n",
              "                    zoomControl: true,\n",
              "                    preferCanvas: false,\n",
              "                }\n",
              "            );\n",
              "\n",
              "            \n",
              "\n",
              "        \n",
              "    \n",
              "            var tile_layer_bd0d494b08b0931b55ac363d98e07f5c = L.tileLayer(\n",
              "                &quot;https://stamen-tiles-{s}.a.ssl.fastly.net/toner-background/{z}/{x}/{y}{r}.png&quot;,\n",
              "                {&quot;attribution&quot;: &quot;Map tiles by \\u003ca target=\\&quot;_blank\\&quot; href=\\&quot;http://stamen.com\\&quot;\\u003eStamen Design\\u003c/a\\u003e, under \\u003ca target=\\&quot;_blank\\&quot; href=\\&quot;http://creativecommons.org/licenses/by/3.0\\&quot;\\u003eCC BY 3.0\\u003c/a\\u003e. Data by \\u003ca target=\\&quot;_blank\\&quot; href=\\&quot;http://openstreetmap.org\\&quot;\\u003eOpenStreetMap\\u003c/a\\u003e, under \\u003ca target=\\&quot;_blank\\&quot; href=\\&quot;http://www.openstreetmap.org/copyright\\&quot;\\u003eODbL\\u003c/a\\u003e.&quot;, &quot;detectRetina&quot;: false, &quot;maxNativeZoom&quot;: 18, &quot;maxZoom&quot;: 18, &quot;minZoom&quot;: 0, &quot;noWrap&quot;: false, &quot;opacity&quot;: 1, &quot;subdomains&quot;: &quot;abc&quot;, &quot;tms&quot;: false}\n",
              "            ).addTo(map_75e69c758481cc251010dac4fbbf9966);\n",
              "        \n",
              "    \n",
              "            var marker_0fb8d2d4c2308f4962fa737e2d69a96d = L.marker(\n",
              "                [47.1707950409, 8.09789386466],\n",
              "                {}\n",
              "            ).addTo(map_75e69c758481cc251010dac4fbbf9966);\n",
              "        \n",
              "    \n",
              "        var popup_f15bf0514b99f98da05bf119810156a3 = L.popup({&quot;maxWidth&quot;: &quot;100%&quot;});\n",
              "\n",
              "        \n",
              "            \n",
              "                var html_5f2693b1b5fdf458a5470c8e99e0e8ef = $(`&lt;div id=&quot;html_5f2693b1b5fdf458a5470c8e99e0e8ef&quot; style=&quot;width: 100.0%; height: 100.0%;&quot;&gt;Sursee&lt;/div&gt;`)[0];\n",
              "                popup_f15bf0514b99f98da05bf119810156a3.setContent(html_5f2693b1b5fdf458a5470c8e99e0e8ef);\n",
              "            \n",
              "        \n",
              "\n",
              "        marker_0fb8d2d4c2308f4962fa737e2d69a96d.bindPopup(popup_f15bf0514b99f98da05bf119810156a3)\n",
              "        ;\n",
              "\n",
              "        \n",
              "    \n",
              "    \n",
              "            var marker_d55dc3c0688e1d84ae82f78e6f43ed0e = L.marker(\n",
              "                [46.2275531964, 7.35919703457],\n",
              "                {}\n",
              "            ).addTo(map_75e69c758481cc251010dac4fbbf9966);\n",
              "        \n",
              "    \n",
              "        var popup_798d34774b894f0d75c2f662b7662cd1 = L.popup({&quot;maxWidth&quot;: &quot;100%&quot;});\n",
              "\n",
              "        \n",
              "            \n",
              "                var html_b4a75befdbbb1c5130941bd654ba2352 = $(`&lt;div id=&quot;html_b4a75befdbbb1c5130941bd654ba2352&quot; style=&quot;width: 100.0%; height: 100.0%;&quot;&gt;Sion&lt;/div&gt;`)[0];\n",
              "                popup_798d34774b894f0d75c2f662b7662cd1.setContent(html_b4a75befdbbb1c5130941bd654ba2352);\n",
              "            \n",
              "        \n",
              "\n",
              "        marker_d55dc3c0688e1d84ae82f78e6f43ed0e.bindPopup(popup_798d34774b894f0d75c2f662b7662cd1)\n",
              "        ;\n",
              "\n",
              "        \n",
              "    \n",
              "    \n",
              "            var marker_ab4617f93eef33ce6b8d19fca16db825 = L.marker(\n",
              "                [46.8757387133, 8.63157541744],\n",
              "                {}\n",
              "            ).addTo(map_75e69c758481cc251010dac4fbbf9966);\n",
              "        \n",
              "    \n",
              "        var popup_84069c0291080ed00fdf6144ffa1b7b1 = L.popup({&quot;maxWidth&quot;: &quot;100%&quot;});\n",
              "\n",
              "        \n",
              "            \n",
              "                var html_2d516b1deb6d4913cc0a31ea064d8644 = $(`&lt;div id=&quot;html_2d516b1deb6d4913cc0a31ea064d8644&quot; style=&quot;width: 100.0%; height: 100.0%;&quot;&gt;Altdorf&lt;/div&gt;`)[0];\n",
              "                popup_84069c0291080ed00fdf6144ffa1b7b1.setContent(html_2d516b1deb6d4913cc0a31ea064d8644);\n",
              "            \n",
              "        \n",
              "\n",
              "        marker_ab4617f93eef33ce6b8d19fca16db825.bindPopup(popup_84069c0291080ed00fdf6144ffa1b7b1)\n",
              "        ;\n",
              "\n",
              "        \n",
              "    \n",
              "    \n",
              "            var marker_0279db5940f76d632435c73f8311e7d3 = L.marker(\n",
              "                [46.9674404284, 9.55404469208],\n",
              "                {}\n",
              "            ).addTo(map_75e69c758481cc251010dac4fbbf9966);\n",
              "        \n",
              "    \n",
              "        var popup_4049a42f7d4cdd1b1a83e8839ac69187 = L.popup({&quot;maxWidth&quot;: &quot;100%&quot;});\n",
              "\n",
              "        \n",
              "            \n",
              "                var html_4b1799f343c6e6487cab5dd2bdf098b4 = $(`&lt;div id=&quot;html_4b1799f343c6e6487cab5dd2bdf098b4&quot; style=&quot;width: 100.0%; height: 100.0%;&quot;&gt;Landquart&lt;/div&gt;`)[0];\n",
              "                popup_4049a42f7d4cdd1b1a83e8839ac69187.setContent(html_4b1799f343c6e6487cab5dd2bdf098b4);\n",
              "            \n",
              "        \n",
              "\n",
              "        marker_0279db5940f76d632435c73f8311e7d3.bindPopup(popup_4049a42f7d4cdd1b1a83e8839ac69187)\n",
              "        ;\n",
              "\n",
              "        \n",
              "    \n",
              "    \n",
              "            var marker_38a30c3933e55468286f296bbb6f8866 = L.marker(\n",
              "                [46.8807024189, 7.6213670273],\n",
              "                {}\n",
              "            ).addTo(map_75e69c758481cc251010dac4fbbf9966);\n",
              "        \n",
              "    \n",
              "        var popup_2c7e052b63e915569f9f585dc57dec5b = L.popup({&quot;maxWidth&quot;: &quot;100%&quot;});\n",
              "\n",
              "        \n",
              "            \n",
              "                var html_ff4871a3d04a7163d1a94edad03765e9 = $(`&lt;div id=&quot;html_ff4871a3d04a7163d1a94edad03765e9&quot; style=&quot;width: 100.0%; height: 100.0%;&quot;&gt;Konolfingen&lt;/div&gt;`)[0];\n",
              "                popup_2c7e052b63e915569f9f585dc57dec5b.setContent(html_ff4871a3d04a7163d1a94edad03765e9);\n",
              "            \n",
              "        \n",
              "\n",
              "        marker_38a30c3933e55468286f296bbb6f8866.bindPopup(popup_2c7e052b63e915569f9f585dc57dec5b)\n",
              "        ;\n",
              "\n",
              "        \n",
              "    \n",
              "    \n",
              "            var marker_f91821c1cae74adb449faf90cbc4a742 = L.marker(\n",
              "                [46.7548527306, 7.62960582867],\n",
              "                {}\n",
              "            ).addTo(map_75e69c758481cc251010dac4fbbf9966);\n",
              "        \n",
              "    \n",
              "        var popup_7d9fd4973cb073fee9d3b7faa4e1df66 = L.popup({&quot;maxWidth&quot;: &quot;100%&quot;});\n",
              "\n",
              "        \n",
              "            \n",
              "                var html_6c51f511cbf29b49ca89563354bd8a9e = $(`&lt;div id=&quot;html_6c51f511cbf29b49ca89563354bd8a9e&quot; style=&quot;width: 100.0%; height: 100.0%;&quot;&gt;Thun&lt;/div&gt;`)[0];\n",
              "                popup_7d9fd4973cb073fee9d3b7faa4e1df66.setContent(html_6c51f511cbf29b49ca89563354bd8a9e);\n",
              "            \n",
              "        \n",
              "\n",
              "        marker_f91821c1cae74adb449faf90cbc4a742.bindPopup(popup_7d9fd4973cb073fee9d3b7faa4e1df66)\n",
              "        ;\n",
              "\n",
              "        \n",
              "    \n",
              "    \n",
              "            var marker_c24fabecdae72cd451e4007549e1c656 = L.marker(\n",
              "                [47.0936640656, 7.15649750354],\n",
              "                {}\n",
              "            ).addTo(map_75e69c758481cc251010dac4fbbf9966);\n",
              "        \n",
              "    \n",
              "        var popup_d9fe659f5e3423c8a612300d6859cf4b = L.popup({&quot;maxWidth&quot;: &quot;100%&quot;});\n",
              "\n",
              "        \n",
              "            \n",
              "                var html_8bb81b4bd062842ec07bd2c0113a87b3 = $(`&lt;div id=&quot;html_8bb81b4bd062842ec07bd2c0113a87b3&quot; style=&quot;width: 100.0%; height: 100.0%;&quot;&gt;Twann&lt;/div&gt;`)[0];\n",
              "                popup_d9fe659f5e3423c8a612300d6859cf4b.setContent(html_8bb81b4bd062842ec07bd2c0113a87b3);\n",
              "            \n",
              "        \n",
              "\n",
              "        marker_c24fabecdae72cd451e4007549e1c656.bindPopup(popup_d9fe659f5e3423c8a612300d6859cf4b)\n",
              "        ;\n",
              "\n",
              "        \n",
              "    \n",
              "    \n",
              "            var marker_e022e8e94bb91c3a146ecad42f8852fc = L.marker(\n",
              "                [47.0448235144, 9.44626047466],\n",
              "                {}\n",
              "            ).addTo(map_75e69c758481cc251010dac4fbbf9966);\n",
              "        \n",
              "    \n",
              "        var popup_bf628fff9a4c157f4a38e841a92ad7ca = L.popup({&quot;maxWidth&quot;: &quot;100%&quot;});\n",
              "\n",
              "        \n",
              "            \n",
              "                var html_68a9e0e7e7c37980f7b86c0e5b8e9ebf = $(`&lt;div id=&quot;html_68a9e0e7e7c37980f7b86c0e5b8e9ebf&quot; style=&quot;width: 100.0%; height: 100.0%;&quot;&gt;Sargans&lt;/div&gt;`)[0];\n",
              "                popup_bf628fff9a4c157f4a38e841a92ad7ca.setContent(html_68a9e0e7e7c37980f7b86c0e5b8e9ebf);\n",
              "            \n",
              "        \n",
              "\n",
              "        marker_e022e8e94bb91c3a146ecad42f8852fc.bindPopup(popup_bf628fff9a4c157f4a38e841a92ad7ca)\n",
              "        ;\n",
              "\n",
              "        \n",
              "    \n",
              "    \n",
              "            var marker_39ee3c20429685bb715e5bc32c3e5cea = L.marker(\n",
              "                [46.5167918355, 6.6290923032],\n",
              "                {}\n",
              "            ).addTo(map_75e69c758481cc251010dac4fbbf9966);\n",
              "        \n",
              "    \n",
              "        var popup_4783ba0f80766bcb1c5d73bdf2927f78 = L.popup({&quot;maxWidth&quot;: &quot;100%&quot;});\n",
              "\n",
              "        \n",
              "            \n",
              "                var html_e58daae17cafa54285b63a7a43cc00e1 = $(`&lt;div id=&quot;html_e58daae17cafa54285b63a7a43cc00e1&quot; style=&quot;width: 100.0%; height: 100.0%;&quot;&gt;Lausanne&lt;/div&gt;`)[0];\n",
              "                popup_4783ba0f80766bcb1c5d73bdf2927f78.setContent(html_e58daae17cafa54285b63a7a43cc00e1);\n",
              "            \n",
              "        \n",
              "\n",
              "        marker_39ee3c20429685bb715e5bc32c3e5cea.bindPopup(popup_4783ba0f80766bcb1c5d73bdf2927f78)\n",
              "        ;\n",
              "\n",
              "        \n",
              "    \n",
              "    \n",
              "            var marker_ed8a5ca8873def683151aa7ce6c41b55 = L.marker(\n",
              "                [46.4630018107, 6.84344559824],\n",
              "                {}\n",
              "            ).addTo(map_75e69c758481cc251010dac4fbbf9966);\n",
              "        \n",
              "    \n",
              "        var popup_8e4974e0b35f232315c0c46c025fea21 = L.popup({&quot;maxWidth&quot;: &quot;100%&quot;});\n",
              "\n",
              "        \n",
              "            \n",
              "                var html_6fafb789bcfc3f66cf610fa6249d2c2f = $(`&lt;div id=&quot;html_6fafb789bcfc3f66cf610fa6249d2c2f&quot; style=&quot;width: 100.0%; height: 100.0%;&quot;&gt;Vevey&lt;/div&gt;`)[0];\n",
              "                popup_8e4974e0b35f232315c0c46c025fea21.setContent(html_6fafb789bcfc3f66cf610fa6249d2c2f);\n",
              "            \n",
              "        \n",
              "\n",
              "        marker_ed8a5ca8873def683151aa7ce6c41b55.bindPopup(popup_8e4974e0b35f232315c0c46c025fea21)\n",
              "        ;\n",
              "\n",
              "        \n",
              "    \n",
              "    \n",
              "            var marker_e922a14211243709bce1040a948f22b5 = L.marker(\n",
              "                [46.1724201894, 8.80136089926],\n",
              "                {}\n",
              "            ).addTo(map_75e69c758481cc251010dac4fbbf9966);\n",
              "        \n",
              "    \n",
              "        var popup_6f0914c448a42f370760f93ca6544fd9 = L.popup({&quot;maxWidth&quot;: &quot;100%&quot;});\n",
              "\n",
              "        \n",
              "            \n",
              "                var html_e81eb9292d0ef348b57f8d1563a91227 = $(`&lt;div id=&quot;html_e81eb9292d0ef348b57f8d1563a91227&quot; style=&quot;width: 100.0%; height: 100.0%;&quot;&gt;Locarno&lt;/div&gt;`)[0];\n",
              "                popup_6f0914c448a42f370760f93ca6544fd9.setContent(html_e81eb9292d0ef348b57f8d1563a91227);\n",
              "            \n",
              "        \n",
              "\n",
              "        marker_e922a14211243709bce1040a948f22b5.bindPopup(popup_6f0914c448a42f370760f93ca6544fd9)\n",
              "        ;\n",
              "\n",
              "        \n",
              "    \n",
              "    \n",
              "            var marker_8c36e53bc6abdcdf0ce06e0d9802def7 = L.marker(\n",
              "                [47.3000569504, 8.83971989441],\n",
              "                {}\n",
              "            ).addTo(map_75e69c758481cc251010dac4fbbf9966);\n",
              "        \n",
              "    \n",
              "        var popup_5731274bfc418ef353878f68b01a2f5f = L.popup({&quot;maxWidth&quot;: &quot;100%&quot;});\n",
              "\n",
              "        \n",
              "            \n",
              "                var html_acd7ce291f94824e9230fba7998bb661 = $(`&lt;div id=&quot;html_acd7ce291f94824e9230fba7998bb661&quot; style=&quot;width: 100.0%; height: 100.0%;&quot;&gt;Hinwil&lt;/div&gt;`)[0];\n",
              "                popup_5731274bfc418ef353878f68b01a2f5f.setContent(html_acd7ce291f94824e9230fba7998bb661);\n",
              "            \n",
              "        \n",
              "\n",
              "        marker_8c36e53bc6abdcdf0ce06e0d9802def7.bindPopup(popup_5731274bfc418ef353878f68b01a2f5f)\n",
              "        ;\n",
              "\n",
              "        \n",
              "    \n",
              "    \n",
              "            var marker_665b248cba6f39bc7d2f69a425b0e8b6 = L.marker(\n",
              "                [46.9488322905, 7.43913088992],\n",
              "                {}\n",
              "            ).addTo(map_75e69c758481cc251010dac4fbbf9966);\n",
              "        \n",
              "    \n",
              "        var popup_bd2410c218e485ea4766ae24fd058a61 = L.popup({&quot;maxWidth&quot;: &quot;100%&quot;});\n",
              "\n",
              "        \n",
              "            \n",
              "                var html_e4708e34f10592409677aa380ac87494 = $(`&lt;div id=&quot;html_e4708e34f10592409677aa380ac87494&quot; style=&quot;width: 100.0%; height: 100.0%;&quot;&gt;Bern&lt;/div&gt;`)[0];\n",
              "                popup_bd2410c218e485ea4766ae24fd058a61.setContent(html_e4708e34f10592409677aa380ac87494);\n",
              "            \n",
              "        \n",
              "\n",
              "        marker_665b248cba6f39bc7d2f69a425b0e8b6.bindPopup(popup_bd2410c218e485ea4766ae24fd058a61)\n",
              "        ;\n",
              "\n",
              "        \n",
              "    \n",
              "    \n",
              "            var marker_66bfa96f914d5694cd7dedf9f8f7afcc = L.marker(\n",
              "                [47.4844611721, 7.7313674807],\n",
              "                {}\n",
              "            ).addTo(map_75e69c758481cc251010dac4fbbf9966);\n",
              "        \n",
              "    \n",
              "        var popup_46efb4b431a666b76cb42c999ee2da06 = L.popup({&quot;maxWidth&quot;: &quot;100%&quot;});\n",
              "\n",
              "        \n",
              "            \n",
              "                var html_9a721652adf7f7ca72b97bcc4ed87ccf = $(`&lt;div id=&quot;html_9a721652adf7f7ca72b97bcc4ed87ccf&quot; style=&quot;width: 100.0%; height: 100.0%;&quot;&gt;Liestal&lt;/div&gt;`)[0];\n",
              "                popup_46efb4b431a666b76cb42c999ee2da06.setContent(html_9a721652adf7f7ca72b97bcc4ed87ccf);\n",
              "            \n",
              "        \n",
              "\n",
              "        marker_66bfa96f914d5694cd7dedf9f8f7afcc.bindPopup(popup_46efb4b431a666b76cb42c999ee2da06)\n",
              "        ;\n",
              "\n",
              "        \n",
              "    \n",
              "    \n",
              "            var marker_bbd84ec7f80e89035184778025748dde = L.marker(\n",
              "                [46.0055005499, 8.94699530851],\n",
              "                {}\n",
              "            ).addTo(map_75e69c758481cc251010dac4fbbf9966);\n",
              "        \n",
              "    \n",
              "        var popup_28bfc73568dd3f1c28fd8c4220f0619c = L.popup({&quot;maxWidth&quot;: &quot;100%&quot;});\n",
              "\n",
              "        \n",
              "            \n",
              "                var html_265d23d385e51f9f769e432c61ee925e = $(`&lt;div id=&quot;html_265d23d385e51f9f769e432c61ee925e&quot; style=&quot;width: 100.0%; height: 100.0%;&quot;&gt;Lugano&lt;/div&gt;`)[0];\n",
              "                popup_28bfc73568dd3f1c28fd8c4220f0619c.setContent(html_265d23d385e51f9f769e432c61ee925e);\n",
              "            \n",
              "        \n",
              "\n",
              "        marker_bbd84ec7f80e89035184778025748dde.bindPopup(popup_28bfc73568dd3f1c28fd8c4220f0619c)\n",
              "        ;\n",
              "\n",
              "        \n",
              "    \n",
              "&lt;/script&gt;\n",
              "&lt;/html&gt;\" style=\"position:absolute;width:100%;height:100%;left:0;top:0;border:none !important;\" allowfullscreen webkitallowfullscreen mozallowfullscreen></iframe></div></div>"
            ]
          },
          "metadata": {},
          "execution_count": 6
        }
      ],
      "source": [
        "from sbb import SBB\n",
        "\n",
        "sbb = SBB()\n",
        "sbb.import_data('/content/search/linie-mit-betriebspunkten.json')\n",
        "distance_function = sbb.get_distance_between\n",
        "\n",
        "path = ['Sursee', 'Sion', 'Altdorf', 'Landquart', 'Konolfingen', 'Thun', 'Twann', 'Sargans', 'Lausanne', 'Vevey', 'Locarno', 'Hinwil', 'Bern', 'Liestal', 'Lugano']\n",
        "\n",
        "print(\"path cost = \" + str(evaluate_path(path, distance_function)))\n",
        "\n",
        "print(path)\n",
        "m = create_map(path, sbb, map_ch)\n",
        "m"
      ]
    },
    {
      "cell_type": "markdown",
      "metadata": {
        "id": "p8FoBomvnZly"
      },
      "source": [
        "This is defenitly not the best way how to connect the cities. Find the optimal solution with **one** of the follwoing algorithms."
      ]
    },
    {
      "cell_type": "markdown",
      "metadata": {
        "id": "MfgmUBThnZl0"
      },
      "source": [
        "## Hill Climbing\n",
        "\n",
        "Here, we try to minimize the distance of our path. So instead of hill climbing, we will do the opposite. Instead of trying to find the highest hill (maximum), we're looking at the deepest valley (minimum). But that's not a concern, we can easily change the sign to switch from a maximization  to a minimization problem.\n",
        "\n",
        "*Hints:*\n",
        "- use the `evaluate_path()` function we have defined earlier\n",
        "- make sure to copy lists or sets properly: `current_path = path.copy()`\n",
        "- you can convert sets to lists by `list(my_set)`\n",
        "- a neighbouring path can be found by switching the position of two cities"
      ]
    },
    {
      "cell_type": "code",
      "execution_count": null,
      "metadata": {
        "id": "L2L5KtP7nZl0"
      },
      "outputs": [],
      "source": [
        "def hill_climbing_TSP(path, distance_function):\n",
        "    return None\n"
      ]
    },
    {
      "cell_type": "code",
      "execution_count": null,
      "metadata": {
        "colab": {
          "base_uri": "https://localhost:8080/",
          "height": 305
        },
        "id": "AmEmlZhbnZl1",
        "outputId": "b58b503f-5a32-41e4-f4bf-372acf2fa563"
      },
      "outputs": [
        {
          "output_type": "error",
          "ename": "TypeError",
          "evalue": "ignored",
          "traceback": [
            "\u001b[0;31m---------------------------------------------------------------------------\u001b[0m",
            "\u001b[0;31mTypeError\u001b[0m                                 Traceback (most recent call last)",
            "\u001b[0;32m<ipython-input-6-9622fce766b3>\u001b[0m in \u001b[0;36m<module>\u001b[0;34m\u001b[0m\n\u001b[1;32m      1\u001b[0m \u001b[0mbest_path\u001b[0m \u001b[0;34m=\u001b[0m \u001b[0mhill_climbing_TSP\u001b[0m\u001b[0;34m(\u001b[0m\u001b[0mpath\u001b[0m\u001b[0;34m,\u001b[0m \u001b[0mdistance_function\u001b[0m\u001b[0;34m)\u001b[0m\u001b[0;34m\u001b[0m\u001b[0;34m\u001b[0m\u001b[0m\n\u001b[0;32m----> 2\u001b[0;31m \u001b[0mprint\u001b[0m\u001b[0;34m(\u001b[0m\u001b[0;34m\"with length \"\u001b[0m \u001b[0;34m+\u001b[0m \u001b[0mstr\u001b[0m\u001b[0;34m(\u001b[0m\u001b[0mevaluate_path\u001b[0m\u001b[0;34m(\u001b[0m\u001b[0mbest_path\u001b[0m\u001b[0;34m,\u001b[0m\u001b[0msbb\u001b[0m\u001b[0;34m)\u001b[0m\u001b[0;34m)\u001b[0m\u001b[0;34m)\u001b[0m\u001b[0;34m\u001b[0m\u001b[0;34m\u001b[0m\u001b[0m\n\u001b[0m",
            "\u001b[0;32m<ipython-input-3-b4e8edc6ed3e>\u001b[0m in \u001b[0;36mevaluate_path\u001b[0;34m(path, distance_function)\u001b[0m\n\u001b[1;32m     17\u001b[0m     \u001b[0mlength\u001b[0m \u001b[0;34m=\u001b[0m \u001b[0;36m0\u001b[0m\u001b[0;34m\u001b[0m\u001b[0;34m\u001b[0m\u001b[0m\n\u001b[1;32m     18\u001b[0m     \u001b[0mlast_city\u001b[0m \u001b[0;34m=\u001b[0m \u001b[0;34m\"\"\u001b[0m\u001b[0;34m\u001b[0m\u001b[0;34m\u001b[0m\u001b[0m\n\u001b[0;32m---> 19\u001b[0;31m     \u001b[0;32mfor\u001b[0m \u001b[0mcity\u001b[0m \u001b[0;32min\u001b[0m \u001b[0mpath\u001b[0m\u001b[0;34m:\u001b[0m\u001b[0;34m\u001b[0m\u001b[0;34m\u001b[0m\u001b[0m\n\u001b[0m\u001b[1;32m     20\u001b[0m         \u001b[0;32mif\u001b[0m \u001b[0mlast_city\u001b[0m \u001b[0;34m==\u001b[0m \u001b[0;34m\"\"\u001b[0m\u001b[0;34m:\u001b[0m\u001b[0;34m\u001b[0m\u001b[0;34m\u001b[0m\u001b[0m\n\u001b[1;32m     21\u001b[0m             \u001b[0mfirst_city\u001b[0m \u001b[0;34m=\u001b[0m \u001b[0mcity\u001b[0m\u001b[0;34m;\u001b[0m\u001b[0;34m\u001b[0m\u001b[0;34m\u001b[0m\u001b[0m\n",
            "\u001b[0;31mTypeError\u001b[0m: 'NoneType' object is not iterable"
          ]
        }
      ],
      "source": [
        "best_path = hill_climbing_TSP(path, distance_function)\n",
        "print(\"with length \" + str(evaluate_path(best_path,sbb)))"
      ]
    },
    {
      "cell_type": "markdown",
      "metadata": {
        "id": "2iJWKQ0InZl1"
      },
      "source": [
        "Oh, what happend here? Is this the best we can get?\n",
        "- Why is this so?\n",
        "- How many steps did we need to get to this solution?\n",
        "- Try to improve the hill climbing algorithm with one of the methods you have seen in class?"
      ]
    },
    {
      "cell_type": "markdown",
      "metadata": {
        "id": "tlx9kVv9nZl2"
      },
      "source": [
        "## Genetic Algorithm\n",
        "\n",
        "Genetic algorithms (or GA) are inspired by natural evolution and are particularly useful in optimization and search problems with large state spaces.\n",
        "\n",
        "Given a problem, algorithms in the domain make use of a *population* of solutions (also called *states*), where each solution/state represents a feasible solution. At each iteration (often called *generation*), the population gets updated using methods inspired by biology and evolution, like *crossover*, *mutation* and *natural selection*.\n",
        "\n",
        "A genetic algorithm works in the following way:\n",
        "\n",
        "1) Initialize random population.\n",
        "\n",
        "2) Calculate population fitness.\n",
        "\n",
        "3) Select individuals for mating.\n",
        "\n",
        "4) Mate selected individuals to produce new population.\n",
        "\n",
        "     * Random chance to mutate individuals.\n",
        "\n",
        "5) Repeat from step 2) until an individual is fit enough or the maximum number of iterations was reached.\n",
        "\n",
        "Below, you can find some helper functions to implement your genetic algorithm.\n",
        "\n",
        "First, create a dictionnary that maps a letter to a city name."
      ]
    },
    {
      "cell_type": "markdown",
      "metadata": {
        "id": "AkoaBRk8nZl2"
      },
      "source": [
        "Our solution will be a path through all the cities. To simplify, we will encode each city with a letter from the alphabet. So your first initial path through the cities will have the code \"ABCDEFGHIJK..\". We can easily convert a letter to a city by `letter2city('A')` or `city2letter('Rotkreuz')`."
      ]
    },
    {
      "cell_type": "code",
      "execution_count": null,
      "metadata": {
        "id": "0ave5KJunZl3",
        "outputId": "8969b41a-7b31-4fe9-8f3f-b483510aac1b",
        "colab": {
          "base_uri": "https://localhost:8080/"
        }
      },
      "outputs": [
        {
          "output_type": "stream",
          "name": "stdout",
          "text": [
            "the path has the following code : \n",
            "['A', 'B', 'C', 'D', 'E', 'F', 'G', 'H', 'I', 'J', 'K', 'L', 'M', 'N', 'O']\n"
          ]
        }
      ],
      "source": [
        "import string\n",
        "\n",
        "number_of_cities = len(path)\n",
        "letter2city = dict()\n",
        "city2letter = dict()\n",
        "\n",
        "for i in range(number_of_cities):\n",
        "    letter2city[string.ascii_uppercase[i]] = list(path)[i]\n",
        "    city2letter[list(path)[i]] = string.ascii_uppercase[i]\n",
        "\n",
        "def path2string(path):\n",
        "    s = \"\"\n",
        "    for city in path:\n",
        "        s+=city2letter[city]\n",
        "    return list(s)\n",
        "\n",
        "def path2cities(path):\n",
        "    s = list()\n",
        "    for letter in path:\n",
        "        s.append(letter2city[letter])\n",
        "    return s\n",
        "\n",
        "path_code = path2string(path)\n",
        "print(\"the path has the following code : \")\n",
        "print(path_code)"
      ]
    },
    {
      "cell_type": "markdown",
      "metadata": {
        "id": "Gz__oEXNnZl3"
      },
      "source": [
        "Let's inizialize a random population:"
      ]
    },
    {
      "cell_type": "code",
      "execution_count": null,
      "metadata": {
        "id": "k-b00fu4nZl4"
      },
      "outputs": [],
      "source": [
        "import random\n",
        "\n",
        "def init_population(pop_number, cities):\n",
        "    \"\"\"Initializes population for genetic algorithm\n",
        "    pop_number  :  Number of individuals in population\n",
        "    cities      :  cities in letter code \"\"\"\n",
        "\n"
      ]
    },
    {
      "cell_type": "markdown",
      "metadata": {
        "id": "5zT6mnrnnZl4"
      },
      "source": [
        "We can calculate the fitness of a path using the `evaluate_path` function. Note that shorter paths are considered fitter."
      ]
    },
    {
      "cell_type": "code",
      "execution_count": null,
      "metadata": {
        "id": "bChg3aQOnZl5"
      },
      "outputs": [],
      "source": [
        "def fitness(sample):\n",
        "    return"
      ]
    },
    {
      "cell_type": "markdown",
      "metadata": {
        "id": "MLtKE0AynZl5"
      },
      "source": [
        "Create a function to select two individuals for mating. Fitter individuals are more likely to be selected for reproduction than less fit individuals. Therefore, we have to calculate the weights of each indiviudal that corresponds to the likelyhood of being chosen for reproduction."
      ]
    },
    {
      "cell_type": "markdown",
      "metadata": {
        "id": "SUS5kyEQnZl5"
      },
      "source": [
        "Now that we can select two individuals, we make them reproduce using crossover and mutation. We need to consider that we want to visit every city exactly once. For example, for the crossover, you can take a random lenght of individual 1 and fill up the remaining cities based on the order of the unvisited cities in individual 2."
      ]
    },
    {
      "cell_type": "code",
      "execution_count": null,
      "metadata": {
        "id": "ARKhXx_ZnZl5",
        "outputId": "79108ec9-416c-4e9e-f0a9-df79c31d9819",
        "colab": {
          "base_uri": "https://localhost:8080/"
        }
      },
      "outputs": [
        {
          "output_type": "stream",
          "name": "stdout",
          "text": [
            "['A', 'B', 'C', 'D', 'E', 'F', 'G', 'H', 'I', 'J', 'K', 'L', 'M', 'N', 'O']\n",
            "['A', 'N', 'D', 'F', 'B', 'M', 'I', 'E', 'K', 'O', 'G', 'H', 'J', 'C', 'L']\n",
            "None\n",
            "None\n"
          ]
        }
      ],
      "source": [
        "def crossover(x, y):\n",
        "    # create an offspring from the parents x and y\n",
        "    return\n",
        "\n",
        "def mutate(x, p_mutate):\n",
        "    # switch the location of two cities\n",
        "    return\n",
        "\n",
        "# test your code\n",
        "x = path_code\n",
        "y = random.sample(path_code, len(path_code))\n",
        "xy = crossover(x,y)\n",
        "print(x)\n",
        "print(y)\n",
        "print(xy)\n",
        "mutate(xy, 0.5)\n",
        "print(xy)"
      ]
    },
    {
      "cell_type": "markdown",
      "metadata": {
        "id": "klGuMmPlnZl6"
      },
      "source": [
        "We have now all the ingredients to create our genetic algorithm:"
      ]
    },
    {
      "cell_type": "markdown",
      "metadata": {
        "id": "OgrBpsxInZl6"
      },
      "source": [
        "## Simulated Annealing\n",
        "\n",
        "\n",
        "Simulated Annealing is quite similar to Hill Climbing,\n",
        "but instead of picking the _best_ move every iteration, it picks a _random_ move.\n",
        "If this random move brings us closer to the global optimum, it will be accepted,\n",
        "but if it doesn't, the algorithm may accept or reject the move based on a probability dictated by the _temperature_.\n",
        "When the *temperature* is high, the algorithm is more likely to accept a random move even if it is bad.\n",
        "At low temperatures, only good moves are accepted, with the occasional exception.\n",
        "This allows exploration of the state space and prevents the algorithm from getting stuck at a local optimum.\n",
        "\n",
        "The temperature is gradually decreased over the course of the iteration.\n",
        "This is done by a scheduling routine:\n"
      ]
    },
    {
      "cell_type": "code",
      "execution_count": null,
      "metadata": {
        "id": "SkjaYlaSnZl6"
      },
      "outputs": [],
      "source": [
        "import math\n",
        "def exp_schedule(t, k=300, lam=0.0001, limit=20000):\n",
        "    \"\"\"One possible schedule function for simulated annealing\"\"\"\n",
        "    return (k * math.exp(-lam * t) if t < limit else 0)"
      ]
    },
    {
      "cell_type": "markdown",
      "metadata": {
        "id": "SDNDjZVBnZl7"
      },
      "source": [
        "With this, try to implement the simulated annealing algorithm:"
      ]
    },
    {
      "cell_type": "code",
      "execution_count": null,
      "metadata": {
        "id": "hfilICHmnZl7"
      },
      "outputs": [],
      "source": [
        "def simulated_annealing_TSP(path, distance_function):\n",
        "    return"
      ]
    }
  ],
  "metadata": {
    "kernelspec": {
      "display_name": "Python 3",
      "language": "python",
      "name": "python3"
    },
    "language_info": {
      "codemirror_mode": {
        "name": "ipython",
        "version": 3
      },
      "file_extension": ".py",
      "mimetype": "text/x-python",
      "name": "python",
      "nbconvert_exporter": "python",
      "pygments_lexer": "ipython3",
      "version": "3.7.3"
    },
    "colab": {
      "provenance": [],
      "include_colab_link": true
    }
  },
  "nbformat": 4,
  "nbformat_minor": 0
}